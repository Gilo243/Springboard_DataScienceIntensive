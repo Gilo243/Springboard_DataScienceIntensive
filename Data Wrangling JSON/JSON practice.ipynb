{
 "cells": [
  {
   "cell_type": "code",
   "execution_count": 5,
   "metadata": {
    "collapsed": true
   },
   "outputs": [],
   "source": [
    "import json\n",
    "from pandas.io.json import json_normalize\n",
    "import pandas as pd"
   ]
  },
  {
   "cell_type": "code",
   "execution_count": 9,
   "metadata": {
    "collapsed": true
   },
   "outputs": [],
   "source": [
    "json_string = [{'apiVersion': '2',\n",
    "                 'distance': 10,\n",
    "                 'latitude': '-6.162959',\n",
    "                 'longitude': '35.751607',\n",
    "                 'networkRank': [{'networkId': '6402',\n",
    "                   'networkName': 'Vodacom',\n",
    "                   'type3G': {'averageRssiAsu': '9.5429091136',\n",
    "                    'averageRssiDb': '-69.5664329624972',\n",
    "                    'downloadSpeed': '1508.1304',\n",
    "                    'networkId': '6402',\n",
    "                    'networkName': 'Vodacom',\n",
    "                    'networkType': '3',\n",
    "                    'pingTime': '320.9600',\n",
    "                    'reliability': '0.804236452826138',\n",
    "                    'sampleSizeRSSI': '948',\n",
    "                    'sampleSizeSpeed': '29',\n",
    "                    'uploadSpeed': '893.7692'}},\n",
    "                  {'networkId': '6400',\n",
    "                   'networkName': 'tiGO',\n",
    "                   'type3G': {'averageRssiAsu': '15.3537142857',\n",
    "                    'averageRssiDb': '-61.4563389583101',\n",
    "                    'downloadSpeed': '516.0000',\n",
    "                    'networkId': '6400',\n",
    "                    'networkName': 'tiGO',\n",
    "                    'networkType': '3',\n",
    "                    'pingTime': '259.0000',\n",
    "                    'reliability': '0.911904765537807',\n",
    "                    'sampleSizeRSSI': '935',\n",
    "                    'sampleSizeSpeed': '21',\n",
    "                    'uploadSpeed': '320.4211'}},\n",
    "                  {'networkId': '6403',\n",
    "                   'networkName': 'Airtel',\n",
    "                   'type3G': {'averageRssiAsu': '13.2729999375',\n",
    "                    'averageRssiDb': '-58.1521092977699',\n",
    "                    'downloadSpeed': '1080.2500',\n",
    "                    'networkId': '6403',\n",
    "                    'networkName': 'Airtel',\n",
    "                    'networkType': '3',\n",
    "                    'pingTime': '194.5556',\n",
    "                    'reliability': '0.554680264185345',\n",
    "                    'sampleSizeRSSI': '587',\n",
    "                    'sampleSizeSpeed': '21',\n",
    "                    'uploadSpeed': '572.1579'}}],\n",
    "                 'network_type': None,\n",
    "                 'perMinuteCurrent': 0,\n",
    "                 'perMinuteLimit': 10,\n",
    "                 'perMonthCurrent': 0,\n",
    "                 'perMonthLimit': 2000}]"
   ]
  },
  {
   "cell_type": "code",
   "execution_count": 38,
   "metadata": {
    "collapsed": false
   },
   "outputs": [
    {
     "data": {
      "text/plain": [
       "['networkId', 'networkName', 'type3G', 'longitude', 'latitude']"
      ]
     },
     "execution_count": 38,
     "metadata": {},
     "output_type": "execute_result"
    }
   ],
   "source": [
    "n1 = json_normalize(json_string, 'networkRank', ['latitude', 'longitude'])\n",
    "n2 = json_normalize(n1['type3G'])\n",
    "list(n1.columns)"
   ]
  },
  {
   "cell_type": "code",
   "execution_count": 29,
   "metadata": {
    "collapsed": false
   },
   "outputs": [
    {
     "data": {
      "text/html": [
       "<div>\n",
       "<table border=\"1\" class=\"dataframe\">\n",
       "  <thead>\n",
       "    <tr style=\"text-align: right;\">\n",
       "      <th></th>\n",
       "      <th>type3G</th>\n",
       "    </tr>\n",
       "  </thead>\n",
       "  <tbody>\n",
       "    <tr>\n",
       "      <th>0</th>\n",
       "      <td>{'reliability': '0.804236452826138', 'download...</td>\n",
       "    </tr>\n",
       "    <tr>\n",
       "      <th>1</th>\n",
       "      <td>{'reliability': '0.911904765537807', 'download...</td>\n",
       "    </tr>\n",
       "    <tr>\n",
       "      <th>2</th>\n",
       "      <td>{'reliability': '0.554680264185345', 'download...</td>\n",
       "    </tr>\n",
       "  </tbody>\n",
       "</table>\n",
       "</div>"
      ],
      "text/plain": [
       "                                              type3G\n",
       "0  {'reliability': '0.804236452826138', 'download...\n",
       "1  {'reliability': '0.911904765537807', 'download...\n",
       "2  {'reliability': '0.554680264185345', 'download..."
      ]
     },
     "execution_count": 29,
     "metadata": {},
     "output_type": "execute_result"
    }
   ],
   "source": [
    "n2"
   ]
  },
  {
   "cell_type": "code",
   "execution_count": 39,
   "metadata": {
    "collapsed": true
   },
   "outputs": [],
   "source": [
    "def flatten_json(y):\n",
    "    out = {}\n",
    "\n",
    "    def flatten(x, name=''):\n",
    "        if type(x) is dict:\n",
    "            for a in x:\n",
    "                flatten(x[a], name + a + '_')\n",
    "        elif type(x) is list:\n",
    "            i = 0\n",
    "            for a in x:\n",
    "                flatten(a, name + str(i) + '_')\n",
    "                i += 1\n",
    "        else:\n",
    "            out[name[:-1]] = x\n",
    "\n",
    "    flatten(y)\n",
    "    return out"
   ]
  },
  {
   "cell_type": "code",
   "execution_count": 41,
   "metadata": {
    "collapsed": false
   },
   "outputs": [
    {
     "data": {
      "text/html": [
       "<div>\n",
       "<table border=\"1\" class=\"dataframe\">\n",
       "  <thead>\n",
       "    <tr style=\"text-align: right;\">\n",
       "      <th></th>\n",
       "      <th>0_apiVersion</th>\n",
       "      <th>0_distance</th>\n",
       "      <th>0_latitude</th>\n",
       "      <th>0_longitude</th>\n",
       "      <th>0_networkRank_0_networkId</th>\n",
       "      <th>0_networkRank_0_networkName</th>\n",
       "      <th>0_networkRank_0_type3G_averageRssiAsu</th>\n",
       "      <th>0_networkRank_0_type3G_averageRssiDb</th>\n",
       "      <th>0_networkRank_0_type3G_downloadSpeed</th>\n",
       "      <th>0_networkRank_0_type3G_networkId</th>\n",
       "      <th>...</th>\n",
       "      <th>0_networkRank_2_type3G_pingTime</th>\n",
       "      <th>0_networkRank_2_type3G_reliability</th>\n",
       "      <th>0_networkRank_2_type3G_sampleSizeRSSI</th>\n",
       "      <th>0_networkRank_2_type3G_sampleSizeSpeed</th>\n",
       "      <th>0_networkRank_2_type3G_uploadSpeed</th>\n",
       "      <th>0_network_type</th>\n",
       "      <th>0_perMinuteCurrent</th>\n",
       "      <th>0_perMinuteLimit</th>\n",
       "      <th>0_perMonthCurrent</th>\n",
       "      <th>0_perMonthLimit</th>\n",
       "    </tr>\n",
       "  </thead>\n",
       "  <tbody>\n",
       "    <tr>\n",
       "      <th>0</th>\n",
       "      <td>2</td>\n",
       "      <td>10</td>\n",
       "      <td>-6.162959</td>\n",
       "      <td>35.751607</td>\n",
       "      <td>6402</td>\n",
       "      <td>Vodacom</td>\n",
       "      <td>9.5429091136</td>\n",
       "      <td>-69.5664329624972</td>\n",
       "      <td>1508.1304</td>\n",
       "      <td>6402</td>\n",
       "      <td>...</td>\n",
       "      <td>194.5556</td>\n",
       "      <td>0.554680264185345</td>\n",
       "      <td>587</td>\n",
       "      <td>21</td>\n",
       "      <td>572.1579</td>\n",
       "      <td>None</td>\n",
       "      <td>0</td>\n",
       "      <td>10</td>\n",
       "      <td>0</td>\n",
       "      <td>2000</td>\n",
       "    </tr>\n",
       "  </tbody>\n",
       "</table>\n",
       "<p>1 rows × 48 columns</p>\n",
       "</div>"
      ],
      "text/plain": [
       "  0_apiVersion  0_distance 0_latitude 0_longitude 0_networkRank_0_networkId  \\\n",
       "0            2          10  -6.162959   35.751607                      6402   \n",
       "\n",
       "  0_networkRank_0_networkName 0_networkRank_0_type3G_averageRssiAsu  \\\n",
       "0                     Vodacom                          9.5429091136   \n",
       "\n",
       "  0_networkRank_0_type3G_averageRssiDb 0_networkRank_0_type3G_downloadSpeed  \\\n",
       "0                    -69.5664329624972                            1508.1304   \n",
       "\n",
       "  0_networkRank_0_type3G_networkId       ...        \\\n",
       "0                             6402       ...         \n",
       "\n",
       "  0_networkRank_2_type3G_pingTime 0_networkRank_2_type3G_reliability  \\\n",
       "0                        194.5556                  0.554680264185345   \n",
       "\n",
       "  0_networkRank_2_type3G_sampleSizeRSSI  \\\n",
       "0                                   587   \n",
       "\n",
       "  0_networkRank_2_type3G_sampleSizeSpeed 0_networkRank_2_type3G_uploadSpeed  \\\n",
       "0                                     21                           572.1579   \n",
       "\n",
       "  0_network_type 0_perMinuteCurrent 0_perMinuteLimit 0_perMonthCurrent  \\\n",
       "0           None                  0               10                 0   \n",
       "\n",
       "  0_perMonthLimit  \n",
       "0            2000  \n",
       "\n",
       "[1 rows x 48 columns]"
      ]
     },
     "execution_count": 41,
     "metadata": {},
     "output_type": "execute_result"
    }
   ],
   "source": [
    "json_normalize(flatten_json(json_string))"
   ]
  },
  {
   "cell_type": "code",
   "execution_count": 42,
   "metadata": {
    "collapsed": true
   },
   "outputs": [],
   "source": [
    "from collections import OrderedDict\n",
    "\n",
    "def flatten2(json_object, container=None, name=''):\n",
    "    if container is None:\n",
    "        container = OrderedDict()\n",
    "    if isinstance(json_object, dict):\n",
    "        for key in json_object:\n",
    "            flatten2(json_object[key], container=container, name=name + key + '_')\n",
    "    elif isinstance(json_object, list):\n",
    "        for n, item in enumerate(json_object, 1):\n",
    "            flatten2(item, container=container, name=name + str(n) + '_')\n",
    "    else:\n",
    "        container[str(name[:-1])] = str(json_object)\n",
    "    return container"
   ]
  },
  {
   "cell_type": "code",
   "execution_count": 44,
   "metadata": {
    "collapsed": false
   },
   "outputs": [
    {
     "data": {
      "text/html": [
       "<div>\n",
       "<table border=\"1\" class=\"dataframe\">\n",
       "  <thead>\n",
       "    <tr style=\"text-align: right;\">\n",
       "      <th></th>\n",
       "      <th>1_perMonthCurrent</th>\n",
       "      <th>1_perMinuteLimit</th>\n",
       "      <th>1_perMonthLimit</th>\n",
       "      <th>1_network_type</th>\n",
       "      <th>1_longitude</th>\n",
       "      <th>1_latitude</th>\n",
       "      <th>1_distance</th>\n",
       "      <th>1_perMinuteCurrent</th>\n",
       "      <th>1_networkRank_1_type3G_reliability</th>\n",
       "      <th>1_networkRank_1_type3G_downloadSpeed</th>\n",
       "      <th>...</th>\n",
       "      <th>1_networkRank_3_type3G_sampleSizeRSSI</th>\n",
       "      <th>1_networkRank_3_type3G_uploadSpeed</th>\n",
       "      <th>1_networkRank_3_type3G_pingTime</th>\n",
       "      <th>1_networkRank_3_type3G_averageRssiAsu</th>\n",
       "      <th>1_networkRank_3_type3G_networkId</th>\n",
       "      <th>1_networkRank_3_type3G_networkName</th>\n",
       "      <th>1_networkRank_3_type3G_networkType</th>\n",
       "      <th>1_networkRank_3_networkId</th>\n",
       "      <th>1_networkRank_3_networkName</th>\n",
       "      <th>1_apiVersion</th>\n",
       "    </tr>\n",
       "  </thead>\n",
       "  <tbody>\n",
       "    <tr>\n",
       "      <th>0</th>\n",
       "      <td>0</td>\n",
       "      <td>10</td>\n",
       "      <td>2000</td>\n",
       "      <td>None</td>\n",
       "      <td>35.751607</td>\n",
       "      <td>-6.162959</td>\n",
       "      <td>10</td>\n",
       "      <td>0</td>\n",
       "      <td>0.804236452826138</td>\n",
       "      <td>1508.1304</td>\n",
       "      <td>...</td>\n",
       "      <td>587</td>\n",
       "      <td>572.1579</td>\n",
       "      <td>194.5556</td>\n",
       "      <td>13.2729999375</td>\n",
       "      <td>6403</td>\n",
       "      <td>Airtel</td>\n",
       "      <td>3</td>\n",
       "      <td>6403</td>\n",
       "      <td>Airtel</td>\n",
       "      <td>2</td>\n",
       "    </tr>\n",
       "  </tbody>\n",
       "</table>\n",
       "<p>1 rows × 48 columns</p>\n",
       "</div>"
      ],
      "text/plain": [
       "  1_perMonthCurrent 1_perMinuteLimit 1_perMonthLimit 1_network_type  \\\n",
       "0                 0               10            2000           None   \n",
       "\n",
       "  1_longitude 1_latitude 1_distance 1_perMinuteCurrent  \\\n",
       "0   35.751607  -6.162959         10                  0   \n",
       "\n",
       "  1_networkRank_1_type3G_reliability 1_networkRank_1_type3G_downloadSpeed  \\\n",
       "0                  0.804236452826138                            1508.1304   \n",
       "\n",
       "      ...      1_networkRank_3_type3G_sampleSizeRSSI  \\\n",
       "0     ...                                        587   \n",
       "\n",
       "  1_networkRank_3_type3G_uploadSpeed 1_networkRank_3_type3G_pingTime  \\\n",
       "0                           572.1579                        194.5556   \n",
       "\n",
       "  1_networkRank_3_type3G_averageRssiAsu 1_networkRank_3_type3G_networkId  \\\n",
       "0                         13.2729999375                             6403   \n",
       "\n",
       "  1_networkRank_3_type3G_networkName 1_networkRank_3_type3G_networkType  \\\n",
       "0                             Airtel                                  3   \n",
       "\n",
       "  1_networkRank_3_networkId 1_networkRank_3_networkName 1_apiVersion  \n",
       "0                      6403                      Airtel            2  \n",
       "\n",
       "[1 rows x 48 columns]"
      ]
     },
     "execution_count": 44,
     "metadata": {},
     "output_type": "execute_result"
    }
   ],
   "source": [
    "\n",
    "json_normalize(flatten2(json_string))"
   ]
  },
  {
   "cell_type": "code",
   "execution_count": null,
   "metadata": {
    "collapsed": true
   },
   "outputs": [],
   "source": []
  }
 ],
 "metadata": {
  "kernelspec": {
   "display_name": "Python [Root]",
   "language": "python",
   "name": "Python [Root]"
  },
  "language_info": {
   "codemirror_mode": {
    "name": "ipython",
    "version": 3
   },
   "file_extension": ".py",
   "mimetype": "text/x-python",
   "name": "python",
   "nbconvert_exporter": "python",
   "pygments_lexer": "ipython3",
   "version": "3.5.2"
  }
 },
 "nbformat": 4,
 "nbformat_minor": 0
}
