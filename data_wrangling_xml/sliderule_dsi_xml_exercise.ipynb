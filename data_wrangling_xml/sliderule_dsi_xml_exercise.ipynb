{
 "cells": [
  {
   "cell_type": "markdown",
   "metadata": {},
   "source": [
    "# XML example and exercise\n",
    "****\n",
    "+ study examples of accessing nodes in XML tree structure  \n",
    "+ work on exercise to be completed and submitted\n",
    "****\n",
    "+ reference: https://docs.python.org/2.7/library/xml.etree.elementtree.html\n",
    "+ data source: http://www.dbis.informatik.uni-goettingen.de/Mondial\n",
    "****"
   ]
  },
  {
   "cell_type": "code",
   "execution_count": 1,
   "metadata": {
    "collapsed": true
   },
   "outputs": [],
   "source": [
    "from xml.etree import ElementTree as ET"
   ]
  },
  {
   "cell_type": "markdown",
   "metadata": {},
   "source": [
    "## XML example\n",
    "\n",
    "+ for details about tree traversal and iterators, see https://docs.python.org/2.7/library/xml.etree.elementtree.html"
   ]
  },
  {
   "cell_type": "code",
   "execution_count": 2,
   "metadata": {
    "collapsed": true
   },
   "outputs": [],
   "source": [
    "document_tree = ET.parse( './data/mondial_database_less.xml' )"
   ]
  },
  {
   "cell_type": "code",
   "execution_count": 3,
   "metadata": {
    "collapsed": false
   },
   "outputs": [
    {
     "name": "stdout",
     "output_type": "stream",
     "text": [
      "Albania\n",
      "Greece\n",
      "Macedonia\n",
      "Serbia\n",
      "Montenegro\n",
      "Kosovo\n",
      "Andorra\n"
     ]
    }
   ],
   "source": [
    "# print names of all countries\n",
    "for child in document_tree.getroot():\n",
    "    print(child.find('name').text)"
   ]
  },
  {
   "cell_type": "code",
   "execution_count": 4,
   "metadata": {
    "collapsed": false
   },
   "outputs": [
    {
     "name": "stdout",
     "output_type": "stream",
     "text": [
      "* Albania:\n",
      "Tirana, Shkodër, Durrës, Vlorë, Elbasan, Korçë\n",
      "* Greece:\n",
      "Komotini, Kavala, Athina, Peiraias, Peristeri, Acharnes, Patra, Kozani, Kerkyra, Ioannina, Thessaloniki, Iraklio, Chania, Ermoupoli, Rhodes, Tripoli, Lamia, Chalkida, Larissa, Volos, Mytilini, Karyes\n",
      "* Macedonia:\n",
      "Skopje, Kumanovo\n",
      "* Serbia:\n",
      "Beograd, Novi Sad, Niš\n",
      "* Montenegro:\n",
      "Podgorica\n",
      "* Kosovo:\n",
      "Prishtine\n",
      "* Andorra:\n",
      "Andorra la Vella\n"
     ]
    }
   ],
   "source": [
    "# print names of all countries and their cities\n",
    "for element in document_tree.iterfind('country'):\n",
    "    print('* ' + element.find('name').text + ':'),\n",
    "    capitals_string = ''\n",
    "    for subelement in element.getiterator('city'):\n",
    "        capitals_string += subelement.find('name').text + ', '\n",
    "    print(capitals_string[:-2])"
   ]
  },
  {
   "cell_type": "markdown",
   "metadata": {},
   "source": [
    "****\n",
    "## XML exercise\n",
    "\n",
    "Using data in 'data/mondial_database.xml', the examples above, and refering to https://docs.python.org/2.7/library/xml.etree.elementtree.html, find\n",
    "\n",
    "1. 10 countries with the lowest infant mortality rates\n",
    "2. 10 cities with the largest population\n",
    "3. 10 ethnic groups with the largest overall populations (sum of best/latest estimates over all countries)\n",
    "4. name and country of a) longest river, b) largest lake and c) airport at highest elevation"
   ]
  },
  {
   "cell_type": "code",
   "execution_count": 5,
   "metadata": {
    "collapsed": false
   },
   "outputs": [],
   "source": [
    "import pandas as pd\n",
    "import numpy as np"
   ]
  },
  {
   "cell_type": "code",
   "execution_count": 6,
   "metadata": {
    "collapsed": true
   },
   "outputs": [],
   "source": [
    "document = ET.parse( './data/mondial_database.xml' )"
   ]
  },
  {
   "cell_type": "code",
   "execution_count": 7,
   "metadata": {
    "collapsed": true
   },
   "outputs": [],
   "source": [
    "root = document.getroot()"
   ]
  },
  {
   "cell_type": "markdown",
   "metadata": {},
   "source": [
    "# Question 1 - Top 10 Countries with the lowest Mortality Rates"
   ]
  },
  {
   "cell_type": "code",
   "execution_count": 8,
   "metadata": {
    "collapsed": false
   },
   "outputs": [
    {
     "data": {
      "text/plain": [
       "'1214489'"
      ]
     },
     "execution_count": 8,
     "metadata": {},
     "output_type": "execute_result"
    }
   ],
   "source": [
    "root[0][1].text"
   ]
  },
  {
   "cell_type": "code",
   "execution_count": 9,
   "metadata": {
    "collapsed": false
   },
   "outputs": [
    {
     "name": "stdout",
     "output_type": "stream",
     "text": [
      "Monaco 1.81\n"
     ]
    }
   ],
   "source": [
    "country = ''\n",
    "ans = 100\n",
    "for element in root.iter('country'):\n",
    "    if element.find('infant_mortality') is None:\n",
    "        continue\n",
    "    if float(element.find('infant_mortality').text) < ans:\n",
    "        country = element.find('name').text\n",
    "        ans = float(element.find('infant_mortality').text)\n",
    "print(country, ans)"
   ]
  },
  {
   "cell_type": "code",
   "execution_count": 10,
   "metadata": {
    "collapsed": false
   },
   "outputs": [
    {
     "data": {
      "text/plain": [
       "[('Monaco', 1.81),\n",
       " ('Japan', 2.13),\n",
       " ('Norway', 2.48),\n",
       " ('Bermuda', 2.48),\n",
       " ('Singapore', 2.53),\n",
       " ('Sweden', 2.6),\n",
       " ('Czech Republic', 2.63),\n",
       " ('Hong Kong', 2.73),\n",
       " ('Macao', 3.13),\n",
       " ('Iceland', 3.15)]"
      ]
     },
     "execution_count": 10,
     "metadata": {},
     "output_type": "execute_result"
    }
   ],
   "source": [
    "inf_mor = {}\n",
    "for element in root.iter('country'):\n",
    "    country = element.find('name').text\n",
    "    try:\n",
    "        mor_rate = float(element.find('infant_mortality').text)\n",
    "    except AttributeError:\n",
    "        continue\n",
    "        \n",
    "    inf_mor[country] = mor_rate\n",
    "\n",
    "sorted(inf_mor.items(), key= lambda x:x[1])[:10]\n",
    "\n",
    "    "
   ]
  },
  {
   "cell_type": "code",
   "execution_count": 11,
   "metadata": {
    "collapsed": false
   },
   "outputs": [
    {
     "data": {
      "text/html": [
       "<div>\n",
       "<table border=\"1\" class=\"dataframe\">\n",
       "  <thead>\n",
       "    <tr style=\"text-align: right;\">\n",
       "      <th></th>\n",
       "      <th>Country</th>\n",
       "      <th>Inf Mortality Rate</th>\n",
       "    </tr>\n",
       "  </thead>\n",
       "  <tbody>\n",
       "    <tr>\n",
       "      <th>36</th>\n",
       "      <td>Monaco</td>\n",
       "      <td>1.81</td>\n",
       "    </tr>\n",
       "    <tr>\n",
       "      <th>90</th>\n",
       "      <td>Japan</td>\n",
       "      <td>2.13</td>\n",
       "    </tr>\n",
       "    <tr>\n",
       "      <th>109</th>\n",
       "      <td>Bermuda</td>\n",
       "      <td>2.48</td>\n",
       "    </tr>\n",
       "    <tr>\n",
       "      <th>34</th>\n",
       "      <td>Norway</td>\n",
       "      <td>2.48</td>\n",
       "    </tr>\n",
       "    <tr>\n",
       "      <th>98</th>\n",
       "      <td>Singapore</td>\n",
       "      <td>2.53</td>\n",
       "    </tr>\n",
       "    <tr>\n",
       "      <th>35</th>\n",
       "      <td>Sweden</td>\n",
       "      <td>2.60</td>\n",
       "    </tr>\n",
       "    <tr>\n",
       "      <th>8</th>\n",
       "      <td>Czech Republic</td>\n",
       "      <td>2.63</td>\n",
       "    </tr>\n",
       "    <tr>\n",
       "      <th>72</th>\n",
       "      <td>Hong Kong</td>\n",
       "      <td>2.73</td>\n",
       "    </tr>\n",
       "    <tr>\n",
       "      <th>73</th>\n",
       "      <td>Macao</td>\n",
       "      <td>3.13</td>\n",
       "    </tr>\n",
       "    <tr>\n",
       "      <th>39</th>\n",
       "      <td>Iceland</td>\n",
       "      <td>3.15</td>\n",
       "    </tr>\n",
       "  </tbody>\n",
       "</table>\n",
       "</div>"
      ],
      "text/plain": [
       "            Country  Inf Mortality Rate\n",
       "36           Monaco                1.81\n",
       "90            Japan                2.13\n",
       "109         Bermuda                2.48\n",
       "34           Norway                2.48\n",
       "98        Singapore                2.53\n",
       "35           Sweden                2.60\n",
       "8    Czech Republic                2.63\n",
       "72        Hong Kong                2.73\n",
       "73            Macao                3.13\n",
       "39          Iceland                3.15"
      ]
     },
     "execution_count": 11,
     "metadata": {},
     "output_type": "execute_result"
    }
   ],
   "source": [
    "df_infmort = []\n",
    "for element in root.iter('country'):\n",
    "    Dict = dict()\n",
    "    if element.find(\"infant_mortality\") is not None:\n",
    "        Dict['Country'] = element.find('name').text\n",
    "        Dict['Inf Mortality Rate'] = float(element.find('infant_mortality').text)\n",
    "        df_infmort.append(Dict)\n",
    "\n",
    "df_infmort = pd.DataFrame(df_infmort)\n",
    "df_infmort.sort_values(by = \"Inf Mortality Rate\").head(10)\n",
    "\n",
    "\n",
    "    "
   ]
  },
  {
   "cell_type": "markdown",
   "metadata": {},
   "source": [
    "# Question 2 - Top 10 Cities with the largest Population"
   ]
  },
  {
   "cell_type": "code",
   "execution_count": 12,
   "metadata": {
    "collapsed": false
   },
   "outputs": [],
   "source": [
    "temp = []\n",
    "for element in root.iter('city'):\n",
    "    name = element.find('name').text\n",
    "    country = element.get('country')\n",
    "    if element.find('population') is not None:\n",
    "    \n",
    "        for pop in element.findall('population'):\n",
    "            year = pop.get('year')\n",
    "            measured = pop.get('measured')\n",
    "            population = pop.text\n",
    "            \n",
    "            temp.append((country, name, year, measured, int(population)))\n",
    "            \n",
    "df = pd.DataFrame(temp, columns = ['Country code' ,'City', 'Year', 'Measurement type', 'Population'])\n",
    "df.Year = pd.DatetimeIndex(df.Year).year\n",
    "\n",
    "\n",
    "## This construct loops over the city sub element, building a list of all instances of population entries. There are\n",
    "## some cities (eg Victoria) that appear in a few countries, so have included Country code as a reference\n",
    "## Question does not specify in detail the requirements of largest population (based on census data? estimate data?\n",
    "## most recent entry?) so this allows us to filter as we see best.\n",
    "\n",
    "## Here we will look at the 10 largest city populations with the constraint that measurement has to be of either\n",
    "## census or estimate type and the \n",
    "\n",
    "df = df.loc[df['Measurement type'].notnull()]\n",
    "grouped = df.groupby(['Country code','City'], as_index=False)\n",
    "g = grouped.apply(lambda x: x.nlargest(1, columns = 'Year'))\n",
    "g.set_index('City', inplace= True)\n"
   ]
  },
  {
   "cell_type": "code",
   "execution_count": 13,
   "metadata": {
    "collapsed": false
   },
   "outputs": [
    {
     "data": {
      "text/html": [
       "<div>\n",
       "<table border=\"1\" class=\"dataframe\">\n",
       "  <thead>\n",
       "    <tr style=\"text-align: right;\">\n",
       "      <th></th>\n",
       "      <th>Country code</th>\n",
       "      <th>Year</th>\n",
       "      <th>Measurement type</th>\n",
       "      <th>Population</th>\n",
       "    </tr>\n",
       "    <tr>\n",
       "      <th>City</th>\n",
       "      <th></th>\n",
       "      <th></th>\n",
       "      <th></th>\n",
       "      <th></th>\n",
       "    </tr>\n",
       "  </thead>\n",
       "  <tbody>\n",
       "    <tr>\n",
       "      <th>Shanghai</th>\n",
       "      <td>CN</td>\n",
       "      <td>2010</td>\n",
       "      <td>census</td>\n",
       "      <td>22,315,474</td>\n",
       "    </tr>\n",
       "    <tr>\n",
       "      <th>Istanbul</th>\n",
       "      <td>TR</td>\n",
       "      <td>2012</td>\n",
       "      <td>admin.</td>\n",
       "      <td>13,710,512</td>\n",
       "    </tr>\n",
       "    <tr>\n",
       "      <th>Mumbai</th>\n",
       "      <td>IND</td>\n",
       "      <td>2011</td>\n",
       "      <td>census</td>\n",
       "      <td>12,442,373</td>\n",
       "    </tr>\n",
       "    <tr>\n",
       "      <th>Moskva</th>\n",
       "      <td>R</td>\n",
       "      <td>2013</td>\n",
       "      <td>estimate</td>\n",
       "      <td>11,979,529</td>\n",
       "    </tr>\n",
       "    <tr>\n",
       "      <th>Beijing</th>\n",
       "      <td>CN</td>\n",
       "      <td>2010</td>\n",
       "      <td>census</td>\n",
       "      <td>11,716,620</td>\n",
       "    </tr>\n",
       "    <tr>\n",
       "      <th>São Paulo</th>\n",
       "      <td>BR</td>\n",
       "      <td>2010</td>\n",
       "      <td>census</td>\n",
       "      <td>11,152,344</td>\n",
       "    </tr>\n",
       "    <tr>\n",
       "      <th>Tianjin</th>\n",
       "      <td>CN</td>\n",
       "      <td>2010</td>\n",
       "      <td>census</td>\n",
       "      <td>11,090,314</td>\n",
       "    </tr>\n",
       "    <tr>\n",
       "      <th>Guangzhou</th>\n",
       "      <td>CN</td>\n",
       "      <td>2010</td>\n",
       "      <td>census</td>\n",
       "      <td>11,071,424</td>\n",
       "    </tr>\n",
       "    <tr>\n",
       "      <th>Delhi</th>\n",
       "      <td>IND</td>\n",
       "      <td>2011</td>\n",
       "      <td>census</td>\n",
       "      <td>11,034,555</td>\n",
       "    </tr>\n",
       "    <tr>\n",
       "      <th>Shenzhen</th>\n",
       "      <td>CN</td>\n",
       "      <td>2010</td>\n",
       "      <td>census</td>\n",
       "      <td>10,358,381</td>\n",
       "    </tr>\n",
       "  </tbody>\n",
       "</table>\n",
       "</div>"
      ],
      "text/plain": [
       "          Country code  Year Measurement type  Population\n",
       "City                                                     \n",
       "Shanghai            CN  2010           census  22,315,474\n",
       "Istanbul            TR  2012           admin.  13,710,512\n",
       "Mumbai             IND  2011           census  12,442,373\n",
       "Moskva               R  2013         estimate  11,979,529\n",
       "Beijing             CN  2010           census  11,716,620\n",
       "São Paulo           BR  2010           census  11,152,344\n",
       "Tianjin             CN  2010           census  11,090,314\n",
       "Guangzhou           CN  2010           census  11,071,424\n",
       "Delhi              IND  2011           census  11,034,555\n",
       "Shenzhen            CN  2010           census  10,358,381"
      ]
     },
     "execution_count": 13,
     "metadata": {},
     "output_type": "execute_result"
    }
   ],
   "source": [
    "top_10 = g.sort_values('Population', ascending= False)[:10]\n",
    "top_10.Population = top_10.Population.map('{:,}'.format)\n",
    "top_10"
   ]
  },
  {
   "cell_type": "code",
   "execution_count": 14,
   "metadata": {
    "collapsed": true
   },
   "outputs": [],
   "source": [
    "## Alternative method"
   ]
  },
  {
   "cell_type": "code",
   "execution_count": 15,
   "metadata": {
    "collapsed": false
   },
   "outputs": [
    {
     "data": {
      "text/html": [
       "<div>\n",
       "<table border=\"1\" class=\"dataframe\">\n",
       "  <thead>\n",
       "    <tr style=\"text-align: right;\">\n",
       "      <th></th>\n",
       "      <th>City</th>\n",
       "      <th>Measurement Type</th>\n",
       "      <th>Population</th>\n",
       "      <th>Year</th>\n",
       "    </tr>\n",
       "  </thead>\n",
       "  <tbody>\n",
       "    <tr>\n",
       "      <th>1251</th>\n",
       "      <td>Shanghai</td>\n",
       "      <td>census</td>\n",
       "      <td>22,315,474</td>\n",
       "      <td>2010</td>\n",
       "    </tr>\n",
       "    <tr>\n",
       "      <th>707</th>\n",
       "      <td>Istanbul</td>\n",
       "      <td>admin.</td>\n",
       "      <td>13,710,512</td>\n",
       "      <td>2012</td>\n",
       "    </tr>\n",
       "    <tr>\n",
       "      <th>1421</th>\n",
       "      <td>Mumbai</td>\n",
       "      <td>census</td>\n",
       "      <td>12,442,373</td>\n",
       "      <td>2011</td>\n",
       "    </tr>\n",
       "    <tr>\n",
       "      <th>443</th>\n",
       "      <td>Moskva</td>\n",
       "      <td>estimate</td>\n",
       "      <td>11,979,529</td>\n",
       "      <td>2013</td>\n",
       "    </tr>\n",
       "    <tr>\n",
       "      <th>1250</th>\n",
       "      <td>Beijing</td>\n",
       "      <td>census</td>\n",
       "      <td>11,716,620</td>\n",
       "      <td>2010</td>\n",
       "    </tr>\n",
       "    <tr>\n",
       "      <th>2594</th>\n",
       "      <td>São Paulo</td>\n",
       "      <td>census</td>\n",
       "      <td>11,152,344</td>\n",
       "      <td>2010</td>\n",
       "    </tr>\n",
       "    <tr>\n",
       "      <th>1252</th>\n",
       "      <td>Tianjin</td>\n",
       "      <td>census</td>\n",
       "      <td>11,090,314</td>\n",
       "      <td>2010</td>\n",
       "    </tr>\n",
       "    <tr>\n",
       "      <th>974</th>\n",
       "      <td>Guangzhou</td>\n",
       "      <td>census</td>\n",
       "      <td>11,071,424</td>\n",
       "      <td>2010</td>\n",
       "    </tr>\n",
       "    <tr>\n",
       "      <th>1467</th>\n",
       "      <td>Delhi</td>\n",
       "      <td>census</td>\n",
       "      <td>11,034,555</td>\n",
       "      <td>2011</td>\n",
       "    </tr>\n",
       "    <tr>\n",
       "      <th>977</th>\n",
       "      <td>Shenzhen</td>\n",
       "      <td>census</td>\n",
       "      <td>10,358,381</td>\n",
       "      <td>2010</td>\n",
       "    </tr>\n",
       "  </tbody>\n",
       "</table>\n",
       "</div>"
      ],
      "text/plain": [
       "           City Measurement Type  Population  Year\n",
       "1251   Shanghai           census  22,315,474  2010\n",
       "707    Istanbul           admin.  13,710,512  2012\n",
       "1421     Mumbai           census  12,442,373  2011\n",
       "443      Moskva         estimate  11,979,529  2013\n",
       "1250    Beijing           census  11,716,620  2010\n",
       "2594  São Paulo           census  11,152,344  2010\n",
       "1252    Tianjin           census  11,090,314  2010\n",
       "974   Guangzhou           census  11,071,424  2010\n",
       "1467      Delhi           census  11,034,555  2011\n",
       "977    Shenzhen           census  10,358,381  2010"
      ]
     },
     "execution_count": 15,
     "metadata": {},
     "output_type": "execute_result"
    }
   ],
   "source": [
    "city_pop = []\n",
    "for element in root.iter('city'):\n",
    "    if element.find('population') is not None:\n",
    "        Dict = dict()\n",
    "        Dict['City'] = element.find('name').text\n",
    "        Dict['Population'] = int(element.findall('population')[-1].text)\n",
    "        Dict['Measurement Type'] = element.findall('population')[-1].get('measured')\n",
    "        Dict['Year'] = element.findall('population')[-1].get('year')\n",
    "        city_pop.append(Dict)\n",
    "city_pop = pd.DataFrame(city_pop)\n",
    "city_pop = city_pop.sort_values(by = \"Population\", ascending = False)\n",
    "city_pop.Population = city_pop.Population.map('{:,}'.format)\n",
    "city_pop.head(10)\n",
    "\n"
   ]
  },
  {
   "cell_type": "markdown",
   "metadata": {},
   "source": [
    "# Question 3 - 10 ethnic groups with the largest overall populations"
   ]
  },
  {
   "cell_type": "code",
   "execution_count": 16,
   "metadata": {
    "collapsed": false
   },
   "outputs": [
    {
     "data": {
      "text/html": [
       "<div>\n",
       "<table border=\"1\" class=\"dataframe\">\n",
       "  <thead>\n",
       "    <tr style=\"text-align: right;\">\n",
       "      <th></th>\n",
       "      <th>raw_ethnic</th>\n",
       "    </tr>\n",
       "    <tr>\n",
       "      <th>ethnic_group</th>\n",
       "      <th></th>\n",
       "    </tr>\n",
       "  </thead>\n",
       "  <tbody>\n",
       "    <tr>\n",
       "      <th>Han Chinese</th>\n",
       "      <td>124,505,880,000</td>\n",
       "    </tr>\n",
       "    <tr>\n",
       "      <th>Indo-Aryan</th>\n",
       "      <td>87,181,558,344</td>\n",
       "    </tr>\n",
       "    <tr>\n",
       "      <th>European</th>\n",
       "      <td>49,487,221,972</td>\n",
       "    </tr>\n",
       "    <tr>\n",
       "      <th>African</th>\n",
       "      <td>31,832,512,037</td>\n",
       "    </tr>\n",
       "    <tr>\n",
       "      <th>Dravidian</th>\n",
       "      <td>30,271,374,425</td>\n",
       "    </tr>\n",
       "    <tr>\n",
       "      <th>Mestizo</th>\n",
       "      <td>15,773,435,494</td>\n",
       "    </tr>\n",
       "    <tr>\n",
       "      <th>Bengali</th>\n",
       "      <td>14,677,691,672</td>\n",
       "    </tr>\n",
       "    <tr>\n",
       "      <th>Russian</th>\n",
       "      <td>13,185,699,608</td>\n",
       "    </tr>\n",
       "    <tr>\n",
       "      <th>Japanese</th>\n",
       "      <td>12,653,421,200</td>\n",
       "    </tr>\n",
       "    <tr>\n",
       "      <th>Malay</th>\n",
       "      <td>12,199,355,037</td>\n",
       "    </tr>\n",
       "  </tbody>\n",
       "</table>\n",
       "</div>"
      ],
      "text/plain": [
       "                   raw_ethnic\n",
       "ethnic_group                 \n",
       "Han Chinese   124,505,880,000\n",
       "Indo-Aryan     87,181,558,344\n",
       "European       49,487,221,972\n",
       "African        31,832,512,037\n",
       "Dravidian      30,271,374,425\n",
       "Mestizo        15,773,435,494\n",
       "Bengali        14,677,691,672\n",
       "Russian        13,185,699,608\n",
       "Japanese       12,653,421,200\n",
       "Malay          12,199,355,037"
      ]
     },
     "execution_count": 16,
     "metadata": {},
     "output_type": "execute_result"
    }
   ],
   "source": [
    "ethnic_pops = []\n",
    "for element in root.iter('country'):\n",
    "    country = element.find('name').text\n",
    "    population = element.findall('population')[-1].text\n",
    "    for ethnic_group in element.findall('ethnicgroup'):\n",
    "        Dic = dict()\n",
    "        Dic['ethnic_group'] = ethnic_group.text\n",
    "        Dic['pop_percent'] = float(ethnic_group.get('percentage'))\n",
    "        Dic['country'] = country\n",
    "        Dic['population'] = int(population)\n",
    "        ethnic_pops.append(Dic)\n",
    "    \n",
    "df_ethnic = pd.DataFrame(ethnic_pops)\n",
    "df_ethnic['raw_ethnic'] = df_ethnic.population * df_ethnic.pop_percent\n",
    "g = df_ethnic.groupby('ethnic_group').agg(lambda x:np.dot(x['pop_percent'], x['population']))[['raw_ethnic']].sort_values('raw_ethnic',ascending = False)[:10]\n",
    "g.raw_ethnic = g.raw_ethnic.map('{:,.0f}'.format)\n",
    "g\n",
    "        "
   ]
  },
  {
   "cell_type": "code",
   "execution_count": 17,
   "metadata": {
    "collapsed": true
   },
   "outputs": [],
   "source": [
    "### Alternative method"
   ]
  },
  {
   "cell_type": "code",
   "execution_count": 18,
   "metadata": {
    "collapsed": false
   },
   "outputs": [
    {
     "data": {
      "text/plain": [
       "ethnic_group\n",
       "Han Chinese    1.245059e+09\n",
       "Indo-Aryan     8.718156e+08\n",
       "European       4.948722e+08\n",
       "African        3.183251e+08\n",
       "Dravidian      3.027137e+08\n",
       "Mestizo        1.577344e+08\n",
       "Bengali        1.467769e+08\n",
       "Russian        1.318570e+08\n",
       "Japanese       1.265342e+08\n",
       "Malay          1.219936e+08\n",
       "Name: raw_ethnic, dtype: float64"
      ]
     },
     "execution_count": 18,
     "metadata": {},
     "output_type": "execute_result"
    }
   ],
   "source": [
    "ethnic_pop = []\n",
    "for element in root.iter('country'):\n",
    "    country = element.find(\"name\").text\n",
    "    population = element.findall(\"population\")[-1].text\n",
    "    for subelement in element.iter(\"ethnicgroup\"):\n",
    "        Dict = dict()\n",
    "        Dict['ethnic_group'] = subelement.text\n",
    "        Dict['pop_percent'] = float(subelement.get(\"percentage\"))\n",
    "        Dict['country'] = country\n",
    "        Dict['population'] = int(population)\n",
    "        ethnic_pop.append(Dict)\n",
    "ethnic_pop = pd.DataFrame(ethnic_pop)       \n",
    "ethnic_pop['raw_ethnic'] = ethnic_pop.pop_percent * ethnic_pop.population/100\n",
    "ethnic_pop.pivot_table(values = \"raw_ethnic\", index = [\"ethnic_group\"], aggfunc= np.sum).sort_values(ascending = False).head(10)"
   ]
  },
  {
   "cell_type": "markdown",
   "metadata": {},
   "source": [
    "# Question 4 - name and country of a) longest river, b) largest lake and c) airport at highest elevation"
   ]
  },
  {
   "cell_type": "markdown",
   "metadata": {},
   "source": [
    "## a) Name and Country of longest river"
   ]
  },
  {
   "cell_type": "code",
   "execution_count": 19,
   "metadata": {
    "collapsed": false
   },
   "outputs": [],
   "source": [
    "country_map = {country.get('car_code'): country.find('name').text for country in root.iter('country')}"
   ]
  },
  {
   "cell_type": "code",
   "execution_count": 20,
   "metadata": {
    "collapsed": false
   },
   "outputs": [
    {
     "data": {
      "text/html": [
       "<div>\n",
       "<table border=\"1\" class=\"dataframe\">\n",
       "  <thead>\n",
       "    <tr style=\"text-align: right;\">\n",
       "      <th></th>\n",
       "      <th>Name</th>\n",
       "      <th>Source</th>\n",
       "      <th>Length</th>\n",
       "    </tr>\n",
       "  </thead>\n",
       "  <tbody>\n",
       "    <tr>\n",
       "      <th>174</th>\n",
       "      <td>Amazonas</td>\n",
       "      <td>Peru</td>\n",
       "      <td>6448.0</td>\n",
       "    </tr>\n",
       "  </tbody>\n",
       "</table>\n",
       "</div>"
      ],
      "text/plain": [
       "         Name Source  Length\n",
       "174  Amazonas   Peru  6448.0"
      ]
     },
     "execution_count": 20,
     "metadata": {},
     "output_type": "execute_result"
    }
   ],
   "source": [
    "rivers = [(river.find('name').text,river.find('source').get('country'), float(river.find('length').text)) \n",
    " for river in root.iter('river') if river.find('length') is not None]\n",
    "river_df = pd.DataFrame(rivers, columns = ['Name', 'Source', 'Length']).sort_values('Length', ascending = False)[:1]\n",
    "river_df.Source = river_df.Source.map(country_map)\n",
    "river_df"
   ]
  },
  {
   "cell_type": "code",
   "execution_count": 21,
   "metadata": {
    "collapsed": false
   },
   "outputs": [
    {
     "data": {
      "text/html": [
       "<div>\n",
       "<table border=\"1\" class=\"dataframe\">\n",
       "  <thead>\n",
       "    <tr style=\"text-align: right;\">\n",
       "      <th></th>\n",
       "      <th>Source_country</th>\n",
       "      <th>length</th>\n",
       "      <th>river</th>\n",
       "      <th>Country Name</th>\n",
       "    </tr>\n",
       "  </thead>\n",
       "  <tbody>\n",
       "    <tr>\n",
       "      <th>174</th>\n",
       "      <td>PE</td>\n",
       "      <td>6448.0</td>\n",
       "      <td>Amazonas</td>\n",
       "      <td>Peru</td>\n",
       "    </tr>\n",
       "    <tr>\n",
       "      <th>137</th>\n",
       "      <td>CN</td>\n",
       "      <td>6380.0</td>\n",
       "      <td>Jangtse</td>\n",
       "      <td>China</td>\n",
       "    </tr>\n",
       "    <tr>\n",
       "      <th>136</th>\n",
       "      <td>CN</td>\n",
       "      <td>4845.0</td>\n",
       "      <td>Hwangho</td>\n",
       "      <td>China</td>\n",
       "    </tr>\n",
       "    <tr>\n",
       "      <th>123</th>\n",
       "      <td>R</td>\n",
       "      <td>4400.0</td>\n",
       "      <td>Lena</td>\n",
       "      <td>Russia</td>\n",
       "    </tr>\n",
       "    <tr>\n",
       "      <th>201</th>\n",
       "      <td>ZRE</td>\n",
       "      <td>4374.0</td>\n",
       "      <td>Zaire</td>\n",
       "      <td>Zaire</td>\n",
       "    </tr>\n",
       "  </tbody>\n",
       "</table>\n",
       "</div>"
      ],
      "text/plain": [
       "    Source_country  length     river Country Name\n",
       "174             PE  6448.0  Amazonas         Peru\n",
       "137             CN  6380.0   Jangtse        China\n",
       "136             CN  4845.0   Hwangho        China\n",
       "123              R  4400.0      Lena       Russia\n",
       "201            ZRE  4374.0     Zaire        Zaire"
      ]
     },
     "execution_count": 21,
     "metadata": {},
     "output_type": "execute_result"
    }
   ],
   "source": [
    "rivers = []\n",
    "for element in root.iter(\"river\"):\n",
    "    if element.find(\"length\") is not None:\n",
    "        Dict = dict()\n",
    "        Dict['river'] = element.find(\"name\").text\n",
    "        Dict['length'] = float(element.find(\"length\").text)\n",
    "        Dict['Source_country'] = (element.find(\"source\").get(\"country\")) ## Some have multiple countries\n",
    "        rivers.append(Dict)\n",
    "rivers = pd.DataFrame(rivers)\n",
    "rivers\n",
    "\n",
    "country_code = dict()\n",
    "for element in root.iter(\"country\"):\n",
    "    country_code.update({element.get(\"car_code\"):element.find(\"name\").text})\n",
    "\n",
    "rivers[\"Country Name\"] = rivers.Source_country.map(country_code)\n",
    "rivers.sort_values(by = \"length\", ascending= False).head()"
   ]
  },
  {
   "cell_type": "markdown",
   "metadata": {},
   "source": [
    "## b) Name and Country of Largest Lake"
   ]
  },
  {
   "cell_type": "code",
   "execution_count": 64,
   "metadata": {
    "collapsed": true
   },
   "outputs": [],
   "source": [
    "import re"
   ]
  },
  {
   "cell_type": "code",
   "execution_count": 95,
   "metadata": {
    "collapsed": false
   },
   "outputs": [],
   "source": [
    "def func(m):\n",
    "    return country_map[m.group(1)]\n"
   ]
  },
  {
   "cell_type": "code",
   "execution_count": 103,
   "metadata": {
    "collapsed": false
   },
   "outputs": [
    {
     "data": {
      "text/html": [
       "<div>\n",
       "<table border=\"1\" class=\"dataframe\">\n",
       "  <thead>\n",
       "    <tr style=\"text-align: right;\">\n",
       "      <th></th>\n",
       "      <th>Name</th>\n",
       "      <th>Countries</th>\n",
       "      <th>Area</th>\n",
       "      <th>Depth</th>\n",
       "    </tr>\n",
       "  </thead>\n",
       "  <tbody>\n",
       "    <tr>\n",
       "      <th>50</th>\n",
       "      <td>Caspian Sea</td>\n",
       "      <td>Russia Azerbaijan Kazakhstan Iran Turkmenistan</td>\n",
       "      <td>386400.0</td>\n",
       "      <td>995.0</td>\n",
       "    </tr>\n",
       "  </tbody>\n",
       "</table>\n",
       "</div>"
      ],
      "text/plain": [
       "           Name                                       Countries      Area  \\\n",
       "50  Caspian Sea  Russia Azerbaijan Kazakhstan Iran Turkmenistan  386400.0   \n",
       "\n",
       "    Depth  \n",
       "50  995.0  "
      ]
     },
     "execution_count": 103,
     "metadata": {},
     "output_type": "execute_result"
    }
   ],
   "source": [
    "lakes = [(lake.find('name').text,lake.get('country'), float(lake.find('area').text), float(lake.find('depth').text)) \n",
    " for lake in root.iter('lake') if lake.find('area') is not None and lake.find('depth') is not None]\n",
    "lake_df = pd.DataFrame(lakes, columns = ['Name', 'Countries', 'Area', 'Depth']).sort_values('Area', ascending = False)\n",
    "temp = lake_df.Countries\n",
    "lake_df.Countries = temp.apply(lambda x: re.sub('(\\w+)',func, x))\n",
    "lake_df[:1]"
   ]
  },
  {
   "cell_type": "code",
   "execution_count": 104,
   "metadata": {
    "collapsed": false
   },
   "outputs": [
    {
     "data": {
      "text/html": [
       "<div>\n",
       "<table border=\"1\" class=\"dataframe\">\n",
       "  <thead>\n",
       "    <tr style=\"text-align: right;\">\n",
       "      <th></th>\n",
       "      <th>Source_country</th>\n",
       "      <th>area</th>\n",
       "      <th>depth</th>\n",
       "      <th>lake</th>\n",
       "      <th>Country Name</th>\n",
       "    </tr>\n",
       "  </thead>\n",
       "  <tbody>\n",
       "    <tr>\n",
       "      <th>54</th>\n",
       "      <td>R AZ KAZ IR TM</td>\n",
       "      <td>386400.0</td>\n",
       "      <td>995.0</td>\n",
       "      <td>Caspian Sea</td>\n",
       "      <td>Russia</td>\n",
       "    </tr>\n",
       "    <tr>\n",
       "      <th>107</th>\n",
       "      <td>CDN USA</td>\n",
       "      <td>82103.0</td>\n",
       "      <td>405.0</td>\n",
       "      <td>Lake Superior</td>\n",
       "      <td>Canada</td>\n",
       "    </tr>\n",
       "    <tr>\n",
       "      <th>79</th>\n",
       "      <td>EAT EAK EAU</td>\n",
       "      <td>68870.0</td>\n",
       "      <td>85.0</td>\n",
       "      <td>Lake Victoria</td>\n",
       "      <td>Tanzania</td>\n",
       "    </tr>\n",
       "    <tr>\n",
       "      <th>104</th>\n",
       "      <td>CDN USA</td>\n",
       "      <td>59600.0</td>\n",
       "      <td>229.0</td>\n",
       "      <td>Lake Huron</td>\n",
       "      <td>Canada</td>\n",
       "    </tr>\n",
       "    <tr>\n",
       "      <th>106</th>\n",
       "      <td>USA</td>\n",
       "      <td>57800.0</td>\n",
       "      <td>281.0</td>\n",
       "      <td>Lake Michigan</td>\n",
       "      <td>United States</td>\n",
       "    </tr>\n",
       "  </tbody>\n",
       "</table>\n",
       "</div>"
      ],
      "text/plain": [
       "     Source_country      area  depth           lake   Country Name\n",
       "54   R AZ KAZ IR TM  386400.0  995.0    Caspian Sea         Russia\n",
       "107         CDN USA   82103.0  405.0  Lake Superior         Canada\n",
       "79      EAT EAK EAU   68870.0   85.0  Lake Victoria       Tanzania\n",
       "104         CDN USA   59600.0  229.0     Lake Huron         Canada\n",
       "106             USA   57800.0  281.0  Lake Michigan  United States"
      ]
     },
     "execution_count": 104,
     "metadata": {},
     "output_type": "execute_result"
    }
   ],
   "source": [
    "lakes = []\n",
    "for element in root.iter(\"lake\"):\n",
    "    if (element.find(\"area\") is not None) & (element.get(\"country\") is not None):\n",
    "        Dict = dict()\n",
    "        Dict['lake'] = element.find(\"name\").text\n",
    "        if element.find(\"depth\") is not None:\n",
    "            Dict['depth'] = float(element.find(\"depth\").text)\n",
    "        else:\n",
    "            np.nan\n",
    "        Dict['area'] = float(element.find(\"area\").text)\n",
    "        Dict['Source_country'] = (element.get(\"country\")) ## Some have multiple countries\n",
    "        lakes.append(Dict)\n",
    "lakes = pd.DataFrame(lakes)\n",
    "lakes\n",
    "\n",
    "lakes_first = lakes.Source_country.str.split(' ')\n",
    "lakes_first = pd.Series([item[0] for item in lakes_first])\n",
    "lakes[\"Country Name\"] = lakes_first.map(country_code)\n",
    "lakes.sort_values(by = [\"area\", \"depth\"], ascending= False).head(5)\n"
   ]
  },
  {
   "cell_type": "markdown",
   "metadata": {},
   "source": [
    "## c) Airport at highest elevation"
   ]
  },
  {
   "cell_type": "code",
   "execution_count": 164,
   "metadata": {
    "collapsed": false,
    "scrolled": true
   },
   "outputs": [
    {
     "data": {
      "text/html": [
       "<div>\n",
       "<table border=\"1\" class=\"dataframe\">\n",
       "  <thead>\n",
       "    <tr style=\"text-align: right;\">\n",
       "      <th></th>\n",
       "      <th>Country</th>\n",
       "      <th>Elevation</th>\n",
       "    </tr>\n",
       "    <tr>\n",
       "      <th>Airport Name</th>\n",
       "      <th></th>\n",
       "      <th></th>\n",
       "    </tr>\n",
       "  </thead>\n",
       "  <tbody>\n",
       "    <tr>\n",
       "      <th>El Alto Intl</th>\n",
       "      <td>Bolivia</td>\n",
       "      <td>4063</td>\n",
       "    </tr>\n",
       "  </tbody>\n",
       "</table>\n",
       "</div>"
      ],
      "text/plain": [
       "              Country  Elevation\n",
       "Airport Name                    \n",
       "El Alto Intl  Bolivia       4063"
      ]
     },
     "execution_count": 164,
     "metadata": {},
     "output_type": "execute_result"
    }
   ],
   "source": [
    "airports = []\n",
    "for el in root.iter('airport'):\n",
    "    airport_name = el.find('name').text\n",
    "    country = el.get(\"country\")\n",
    "    if el.find('elevation').text is not None:\n",
    "        airports.append((airport_name, country, el.find('elevation').text))\n",
    "airports = pd.DataFrame(airports, columns = ['Airport Name', 'Country', 'Elevation']).dropna().set_index('Airport Name')\n",
    "airports['Country'] = airports.Country.map(country_map)\n",
    "airports['Elevation'] = airports.Elevation.map(int)\n",
    "airports.sort_values('Elevation', ascending = False)[:1]\n",
    "        "
   ]
  },
  {
   "cell_type": "code",
   "execution_count": 165,
   "metadata": {
    "collapsed": true
   },
   "outputs": [],
   "source": [
    "## Alternative"
   ]
  },
  {
   "cell_type": "code",
   "execution_count": 166,
   "metadata": {
    "collapsed": false
   },
   "outputs": [
    {
     "data": {
      "text/html": [
       "<div>\n",
       "<table border=\"1\" class=\"dataframe\">\n",
       "  <thead>\n",
       "    <tr style=\"text-align: right;\">\n",
       "      <th></th>\n",
       "      <th>Airport</th>\n",
       "      <th>Country</th>\n",
       "      <th>Elevation</th>\n",
       "      <th>Country Name</th>\n",
       "    </tr>\n",
       "  </thead>\n",
       "  <tbody>\n",
       "    <tr>\n",
       "      <th>80</th>\n",
       "      <td>El Alto Intl</td>\n",
       "      <td>BOL</td>\n",
       "      <td>4063</td>\n",
       "      <td>Bolivia</td>\n",
       "    </tr>\n",
       "    <tr>\n",
       "      <th>219</th>\n",
       "      <td>Lhasa-Gonggar</td>\n",
       "      <td>CN</td>\n",
       "      <td>4005</td>\n",
       "      <td>China</td>\n",
       "    </tr>\n",
       "    <tr>\n",
       "      <th>241</th>\n",
       "      <td>Yushu Batang</td>\n",
       "      <td>CN</td>\n",
       "      <td>3963</td>\n",
       "      <td>China</td>\n",
       "    </tr>\n",
       "    <tr>\n",
       "      <th>813</th>\n",
       "      <td>Juliaca</td>\n",
       "      <td>PE</td>\n",
       "      <td>3827</td>\n",
       "      <td>Peru</td>\n",
       "    </tr>\n",
       "    <tr>\n",
       "      <th>815</th>\n",
       "      <td>Teniente Alejandro Velasco Astete Intl</td>\n",
       "      <td>PE</td>\n",
       "      <td>3311</td>\n",
       "      <td>Peru</td>\n",
       "    </tr>\n",
       "  </tbody>\n",
       "</table>\n",
       "</div>"
      ],
      "text/plain": [
       "                                    Airport Country  Elevation Country Name\n",
       "80                             El Alto Intl     BOL       4063      Bolivia\n",
       "219                           Lhasa-Gonggar      CN       4005        China\n",
       "241                            Yushu Batang      CN       3963        China\n",
       "813                                 Juliaca      PE       3827         Peru\n",
       "815  Teniente Alejandro Velasco Astete Intl      PE       3311         Peru"
      ]
     },
     "execution_count": 166,
     "metadata": {},
     "output_type": "execute_result"
    }
   ],
   "source": [
    "airports = []\n",
    "for element in root.iter(\"airport\"):\n",
    "    if element.find(\"elevation\") is not None:\n",
    "        Dict = dict()\n",
    "        Dict[\"Airport\"] = (element.find(\"name\").text)\n",
    "        Dict[\"Country\"] = (element.get(\"country\"))\n",
    "        Dict[\"Elevation\"] = (element.find(\"elevation\").text)\n",
    "        airports.append(Dict)\n",
    "airports = pd.DataFrame(airports).dropna()\n",
    "airports.Elevation = airports.Elevation.map(int)\n",
    "airports['Country Name'] = airports.Country.map(country_code)\n",
    "airports.sort_values(by = \"Elevation\", ascending = False).head()\n"
   ]
  },
  {
   "cell_type": "code",
   "execution_count": null,
   "metadata": {
    "collapsed": true
   },
   "outputs": [],
   "source": []
  },
  {
   "cell_type": "code",
   "execution_count": null,
   "metadata": {
    "collapsed": true
   },
   "outputs": [],
   "source": []
  },
  {
   "cell_type": "code",
   "execution_count": null,
   "metadata": {
    "collapsed": true
   },
   "outputs": [],
   "source": []
  },
  {
   "cell_type": "code",
   "execution_count": null,
   "metadata": {
    "collapsed": true
   },
   "outputs": [],
   "source": []
  },
  {
   "cell_type": "code",
   "execution_count": null,
   "metadata": {
    "collapsed": true
   },
   "outputs": [],
   "source": []
  },
  {
   "cell_type": "code",
   "execution_count": null,
   "metadata": {
    "collapsed": true
   },
   "outputs": [],
   "source": []
  },
  {
   "cell_type": "code",
   "execution_count": null,
   "metadata": {
    "collapsed": true
   },
   "outputs": [],
   "source": []
  },
  {
   "cell_type": "code",
   "execution_count": null,
   "metadata": {
    "collapsed": true
   },
   "outputs": [],
   "source": []
  },
  {
   "cell_type": "code",
   "execution_count": null,
   "metadata": {
    "collapsed": true
   },
   "outputs": [],
   "source": []
  },
  {
   "cell_type": "code",
   "execution_count": null,
   "metadata": {
    "collapsed": true
   },
   "outputs": [],
   "source": []
  },
  {
   "cell_type": "code",
   "execution_count": null,
   "metadata": {
    "collapsed": true
   },
   "outputs": [],
   "source": []
  }
 ],
 "metadata": {
  "kernelspec": {
   "display_name": "Python [Root]",
   "language": "python",
   "name": "Python [Root]"
  },
  "language_info": {
   "codemirror_mode": {
    "name": "ipython",
    "version": 3
   },
   "file_extension": ".py",
   "mimetype": "text/x-python",
   "name": "python",
   "nbconvert_exporter": "python",
   "pygments_lexer": "ipython3",
   "version": "3.5.2"
  }
 },
 "nbformat": 4,
 "nbformat_minor": 0
}
