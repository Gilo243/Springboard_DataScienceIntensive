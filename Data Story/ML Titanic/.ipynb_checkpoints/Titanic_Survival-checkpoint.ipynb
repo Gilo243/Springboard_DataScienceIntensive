{
 "cells": [
  {
   "cell_type": "code",
   "execution_count": 1,
   "metadata": {
    "collapsed": true
   },
   "outputs": [],
   "source": [
    "import pandas as pd\n",
    "import numpy as np\n",
    "import sklearn\n",
    "import matplotlib\n",
    "from matplotlib import pyplot as plt\n",
    "import seaborn as sns\n",
    "import re\n",
    "from scipy import stats\n",
    "%matplotlib inline"
   ]
  },
  {
   "cell_type": "code",
   "execution_count": 2,
   "metadata": {
    "collapsed": true
   },
   "outputs": [],
   "source": [
    "## Purely application of building supervised machine learning models in sci-kit learn.\n",
    "## For exploratory analysis see other notebook."
   ]
  },
  {
   "cell_type": "code",
   "execution_count": 3,
   "metadata": {
    "collapsed": true
   },
   "outputs": [],
   "source": [
    "## Load both train and test dataframes in and merge. Ideally keep the test data set\n",
    "## isolated from training but for this Titanic problem, I am going to initially merge the\n",
    "## two datasets to speed up imputation, feature engineering etc"
   ]
  },
  {
   "cell_type": "code",
   "execution_count": 4,
   "metadata": {
    "collapsed": true
   },
   "outputs": [],
   "source": [
    "titanic_test = pd.read_csv('test.csv')\n",
    "titanic_train = pd.read_csv('train.csv')"
   ]
  },
  {
   "cell_type": "code",
   "execution_count": 5,
   "metadata": {
    "collapsed": false
   },
   "outputs": [
    {
     "data": {
      "text/html": [
       "<div>\n",
       "<table border=\"1\" class=\"dataframe\">\n",
       "  <thead>\n",
       "    <tr style=\"text-align: right;\">\n",
       "      <th></th>\n",
       "      <th>Age</th>\n",
       "      <th>Cabin</th>\n",
       "      <th>Embarked</th>\n",
       "      <th>Fare</th>\n",
       "      <th>Name</th>\n",
       "      <th>Parch</th>\n",
       "      <th>PassengerId</th>\n",
       "      <th>Pclass</th>\n",
       "      <th>Sex</th>\n",
       "      <th>SibSp</th>\n",
       "      <th>Survived</th>\n",
       "      <th>Ticket</th>\n",
       "      <th>df</th>\n",
       "    </tr>\n",
       "  </thead>\n",
       "  <tbody>\n",
       "    <tr>\n",
       "      <th>0</th>\n",
       "      <td>22.0</td>\n",
       "      <td>NaN</td>\n",
       "      <td>S</td>\n",
       "      <td>7.2500</td>\n",
       "      <td>Braund, Mr. Owen Harris</td>\n",
       "      <td>0</td>\n",
       "      <td>1</td>\n",
       "      <td>3</td>\n",
       "      <td>male</td>\n",
       "      <td>1</td>\n",
       "      <td>0.0</td>\n",
       "      <td>A/5 21171</td>\n",
       "      <td>Train</td>\n",
       "    </tr>\n",
       "    <tr>\n",
       "      <th>1</th>\n",
       "      <td>38.0</td>\n",
       "      <td>C85</td>\n",
       "      <td>C</td>\n",
       "      <td>71.2833</td>\n",
       "      <td>Cumings, Mrs. John Bradley (Florence Briggs Th...</td>\n",
       "      <td>0</td>\n",
       "      <td>2</td>\n",
       "      <td>1</td>\n",
       "      <td>female</td>\n",
       "      <td>1</td>\n",
       "      <td>1.0</td>\n",
       "      <td>PC 17599</td>\n",
       "      <td>Train</td>\n",
       "    </tr>\n",
       "    <tr>\n",
       "      <th>2</th>\n",
       "      <td>26.0</td>\n",
       "      <td>NaN</td>\n",
       "      <td>S</td>\n",
       "      <td>7.9250</td>\n",
       "      <td>Heikkinen, Miss. Laina</td>\n",
       "      <td>0</td>\n",
       "      <td>3</td>\n",
       "      <td>3</td>\n",
       "      <td>female</td>\n",
       "      <td>0</td>\n",
       "      <td>1.0</td>\n",
       "      <td>STON/O2. 3101282</td>\n",
       "      <td>Train</td>\n",
       "    </tr>\n",
       "    <tr>\n",
       "      <th>3</th>\n",
       "      <td>35.0</td>\n",
       "      <td>C123</td>\n",
       "      <td>S</td>\n",
       "      <td>53.1000</td>\n",
       "      <td>Futrelle, Mrs. Jacques Heath (Lily May Peel)</td>\n",
       "      <td>0</td>\n",
       "      <td>4</td>\n",
       "      <td>1</td>\n",
       "      <td>female</td>\n",
       "      <td>1</td>\n",
       "      <td>1.0</td>\n",
       "      <td>113803</td>\n",
       "      <td>Train</td>\n",
       "    </tr>\n",
       "    <tr>\n",
       "      <th>4</th>\n",
       "      <td>35.0</td>\n",
       "      <td>NaN</td>\n",
       "      <td>S</td>\n",
       "      <td>8.0500</td>\n",
       "      <td>Allen, Mr. William Henry</td>\n",
       "      <td>0</td>\n",
       "      <td>5</td>\n",
       "      <td>3</td>\n",
       "      <td>male</td>\n",
       "      <td>0</td>\n",
       "      <td>0.0</td>\n",
       "      <td>373450</td>\n",
       "      <td>Train</td>\n",
       "    </tr>\n",
       "  </tbody>\n",
       "</table>\n",
       "</div>"
      ],
      "text/plain": [
       "    Age Cabin Embarked     Fare  \\\n",
       "0  22.0   NaN        S   7.2500   \n",
       "1  38.0   C85        C  71.2833   \n",
       "2  26.0   NaN        S   7.9250   \n",
       "3  35.0  C123        S  53.1000   \n",
       "4  35.0   NaN        S   8.0500   \n",
       "\n",
       "                                                Name  Parch  PassengerId  \\\n",
       "0                            Braund, Mr. Owen Harris      0            1   \n",
       "1  Cumings, Mrs. John Bradley (Florence Briggs Th...      0            2   \n",
       "2                             Heikkinen, Miss. Laina      0            3   \n",
       "3       Futrelle, Mrs. Jacques Heath (Lily May Peel)      0            4   \n",
       "4                           Allen, Mr. William Henry      0            5   \n",
       "\n",
       "   Pclass     Sex  SibSp  Survived            Ticket     df  \n",
       "0       3    male      1       0.0         A/5 21171  Train  \n",
       "1       1  female      1       1.0          PC 17599  Train  \n",
       "2       3  female      0       1.0  STON/O2. 3101282  Train  \n",
       "3       1  female      1       1.0            113803  Train  \n",
       "4       3    male      0       0.0            373450  Train  "
      ]
     },
     "execution_count": 5,
     "metadata": {},
     "output_type": "execute_result"
    }
   ],
   "source": [
    "## Add variable to identify train and test dataframes and merge dataframes\n",
    "titanic_test['df'] = 'Test'\n",
    "titanic_train['df'] = 'Train'\n",
    "\n",
    "full = pd.concat([titanic_train, titanic_test], ignore_index= True)\n",
    "full.head()"
   ]
  },
  {
   "cell_type": "code",
   "execution_count": 6,
   "metadata": {
    "collapsed": false
   },
   "outputs": [
    {
     "data": {
      "text/html": [
       "<div>\n",
       "<table border=\"1\" class=\"dataframe\">\n",
       "  <thead>\n",
       "    <tr style=\"text-align: right;\">\n",
       "      <th></th>\n",
       "      <th>Age</th>\n",
       "      <th>Cabin</th>\n",
       "      <th>Embarked</th>\n",
       "      <th>Fare</th>\n",
       "      <th>Name</th>\n",
       "      <th>Parch</th>\n",
       "      <th>PassengerId</th>\n",
       "      <th>Pclass</th>\n",
       "      <th>Sex</th>\n",
       "      <th>SibSp</th>\n",
       "      <th>Survived</th>\n",
       "      <th>Ticket</th>\n",
       "      <th>df</th>\n",
       "    </tr>\n",
       "  </thead>\n",
       "  <tbody>\n",
       "    <tr>\n",
       "      <th>0</th>\n",
       "      <td>22.0</td>\n",
       "      <td>NaN</td>\n",
       "      <td>S</td>\n",
       "      <td>7.2500</td>\n",
       "      <td>Braund, Mr. Owen Harris</td>\n",
       "      <td>0</td>\n",
       "      <td>1</td>\n",
       "      <td>3rd Class</td>\n",
       "      <td>male</td>\n",
       "      <td>1</td>\n",
       "      <td>0.0</td>\n",
       "      <td>A/5 21171</td>\n",
       "      <td>Train</td>\n",
       "    </tr>\n",
       "    <tr>\n",
       "      <th>1</th>\n",
       "      <td>38.0</td>\n",
       "      <td>C85</td>\n",
       "      <td>C</td>\n",
       "      <td>71.2833</td>\n",
       "      <td>Cumings, Mrs. John Bradley (Florence Briggs Th...</td>\n",
       "      <td>0</td>\n",
       "      <td>2</td>\n",
       "      <td>1st Class</td>\n",
       "      <td>female</td>\n",
       "      <td>1</td>\n",
       "      <td>1.0</td>\n",
       "      <td>PC 17599</td>\n",
       "      <td>Train</td>\n",
       "    </tr>\n",
       "    <tr>\n",
       "      <th>2</th>\n",
       "      <td>26.0</td>\n",
       "      <td>NaN</td>\n",
       "      <td>S</td>\n",
       "      <td>7.9250</td>\n",
       "      <td>Heikkinen, Miss. Laina</td>\n",
       "      <td>0</td>\n",
       "      <td>3</td>\n",
       "      <td>3rd Class</td>\n",
       "      <td>female</td>\n",
       "      <td>0</td>\n",
       "      <td>1.0</td>\n",
       "      <td>STON/O2. 3101282</td>\n",
       "      <td>Train</td>\n",
       "    </tr>\n",
       "    <tr>\n",
       "      <th>3</th>\n",
       "      <td>35.0</td>\n",
       "      <td>C123</td>\n",
       "      <td>S</td>\n",
       "      <td>53.1000</td>\n",
       "      <td>Futrelle, Mrs. Jacques Heath (Lily May Peel)</td>\n",
       "      <td>0</td>\n",
       "      <td>4</td>\n",
       "      <td>1st Class</td>\n",
       "      <td>female</td>\n",
       "      <td>1</td>\n",
       "      <td>1.0</td>\n",
       "      <td>113803</td>\n",
       "      <td>Train</td>\n",
       "    </tr>\n",
       "    <tr>\n",
       "      <th>4</th>\n",
       "      <td>35.0</td>\n",
       "      <td>NaN</td>\n",
       "      <td>S</td>\n",
       "      <td>8.0500</td>\n",
       "      <td>Allen, Mr. William Henry</td>\n",
       "      <td>0</td>\n",
       "      <td>5</td>\n",
       "      <td>3rd Class</td>\n",
       "      <td>male</td>\n",
       "      <td>0</td>\n",
       "      <td>0.0</td>\n",
       "      <td>373450</td>\n",
       "      <td>Train</td>\n",
       "    </tr>\n",
       "  </tbody>\n",
       "</table>\n",
       "</div>"
      ],
      "text/plain": [
       "    Age Cabin Embarked     Fare  \\\n",
       "0  22.0   NaN        S   7.2500   \n",
       "1  38.0   C85        C  71.2833   \n",
       "2  26.0   NaN        S   7.9250   \n",
       "3  35.0  C123        S  53.1000   \n",
       "4  35.0   NaN        S   8.0500   \n",
       "\n",
       "                                                Name  Parch  PassengerId  \\\n",
       "0                            Braund, Mr. Owen Harris      0            1   \n",
       "1  Cumings, Mrs. John Bradley (Florence Briggs Th...      0            2   \n",
       "2                             Heikkinen, Miss. Laina      0            3   \n",
       "3       Futrelle, Mrs. Jacques Heath (Lily May Peel)      0            4   \n",
       "4                           Allen, Mr. William Henry      0            5   \n",
       "\n",
       "      Pclass     Sex  SibSp  Survived            Ticket     df  \n",
       "0  3rd Class    male      1       0.0         A/5 21171  Train  \n",
       "1  1st Class  female      1       1.0          PC 17599  Train  \n",
       "2  3rd Class  female      0       1.0  STON/O2. 3101282  Train  \n",
       "3  1st Class  female      1       1.0            113803  Train  \n",
       "4  3rd Class    male      0       0.0            373450  Train  "
      ]
     },
     "execution_count": 6,
     "metadata": {},
     "output_type": "execute_result"
    }
   ],
   "source": [
    "## Convert Passenger Class var to ordered categorical\n",
    "passenger_class = pd.Categorical(full.Pclass, ordered= True)\n",
    "passenger_class.rename_categories(['1st Class', '2nd Class', '3rd Class'], inplace= True)\n",
    "full.Pclass = passenger_class\n",
    "full.head()"
   ]
  },
  {
   "cell_type": "code",
   "execution_count": 7,
   "metadata": {
    "collapsed": false
   },
   "outputs": [
    {
     "data": {
      "text/plain": [
       "Age             263\n",
       "Cabin          1014\n",
       "Embarked          2\n",
       "Fare              1\n",
       "Name              0\n",
       "Parch             0\n",
       "PassengerId       0\n",
       "Pclass            0\n",
       "Sex               0\n",
       "SibSp             0\n",
       "Survived        418\n",
       "Ticket            0\n",
       "df                0\n",
       "dtype: int64"
      ]
     },
     "execution_count": 7,
     "metadata": {},
     "output_type": "execute_result"
    }
   ],
   "source": [
    "## find missing variables\n",
    "full.isnull().sum()"
   ]
  },
  {
   "cell_type": "code",
   "execution_count": 8,
   "metadata": {
    "collapsed": false
   },
   "outputs": [
    {
     "name": "stderr",
     "output_type": "stream",
     "text": [
      "/home/gregory/anaconda3/lib/python3.5/site-packages/ipykernel/__main__.py:5: FutureWarning: currently extract(expand=None) means expand=False (return Index/Series/DataFrame) but in a future version of pandas this will be changed to expand=True (return DataFrame)\n"
     ]
    },
    {
     "data": {
      "image/png": "[encoded data removed]",
      "text/plain": [
       "<matplotlib.figure.Figure at 0x7f0d52a99ac8>"
      ]
     },
     "metadata": {},
     "output_type": "display_data"
    }
   ],
   "source": [
    "## Clean up missing variables\n",
    "## Cabin - too many missing to impute with conviction so feature engineer Deck var where\n",
    "## first letter of Cabin is Deck. Missing values encoded as U (for Unknown)\n",
    "\n",
    "full['Deck'] = full.Cabin.str.extract(r'(\\w)\\d*')\n",
    "full.Deck = np.where(full.Deck.isnull(), 'U', full.Deck)\n",
    "\n",
    "## Embarked - Looking at the distribution of these passenger fares with respect to passenger \n",
    "## class and port of embarkation, there is a strong case to be made for 'C' (Charbourg) being \n",
    "## the missing value of our first class passengers. The median cost of a 1st class passengers\n",
    "## ticket from Charbourg is around $80 - exactly the price our missing values.\n",
    "\n",
    "df = full[full.Embarked.notnull()]\n",
    "sns.set(style = 'whitegrid')\n",
    "g = sns.categorical.boxplot('Embarked', df.Fare + 1,'Pclass', data = df)\n",
    "g.set_yscale('log')\n",
    "g.set_ylim(top = 1000)\n",
    "g.set_yticklabels(['${:.1f}'.format(y) for y in g.get_yticks()])\n",
    "g.axhline(y=80, ls = '--', color = 'r');\n",
    "\n",
    "full.Embarked = np.where(~full.Embarked.notnull(),'C',full.Embarked)"
   ]
  },
  {
   "cell_type": "code",
   "execution_count": 9,
   "metadata": {
    "collapsed": false
   },
   "outputs": [
    {
     "data": {
      "text/html": [
       "<div>\n",
       "<table border=\"1\" class=\"dataframe\">\n",
       "  <thead>\n",
       "    <tr style=\"text-align: right;\">\n",
       "      <th></th>\n",
       "      <th>Age</th>\n",
       "      <th>Cabin</th>\n",
       "      <th>Embarked</th>\n",
       "      <th>Fare</th>\n",
       "      <th>Name</th>\n",
       "      <th>Parch</th>\n",
       "      <th>PassengerId</th>\n",
       "      <th>Pclass</th>\n",
       "      <th>Sex</th>\n",
       "      <th>SibSp</th>\n",
       "      <th>Survived</th>\n",
       "      <th>Ticket</th>\n",
       "      <th>df</th>\n",
       "      <th>Deck</th>\n",
       "    </tr>\n",
       "  </thead>\n",
       "  <tbody>\n",
       "    <tr>\n",
       "      <th>1043</th>\n",
       "      <td>60.5</td>\n",
       "      <td>NaN</td>\n",
       "      <td>S</td>\n",
       "      <td>NaN</td>\n",
       "      <td>Storey, Mr. Thomas</td>\n",
       "      <td>0</td>\n",
       "      <td>1044</td>\n",
       "      <td>3rd Class</td>\n",
       "      <td>male</td>\n",
       "      <td>0</td>\n",
       "      <td>NaN</td>\n",
       "      <td>3701</td>\n",
       "      <td>Test</td>\n",
       "      <td>U</td>\n",
       "    </tr>\n",
       "  </tbody>\n",
       "</table>\n",
       "</div>"
      ],
      "text/plain": [
       "       Age Cabin Embarked  Fare                Name  Parch  PassengerId  \\\n",
       "1043  60.5   NaN        S   NaN  Storey, Mr. Thomas      0         1044   \n",
       "\n",
       "         Pclass   Sex  SibSp  Survived Ticket    df Deck  \n",
       "1043  3rd Class  male      0       NaN   3701  Test    U  "
      ]
     },
     "execution_count": 9,
     "metadata": {},
     "output_type": "execute_result"
    }
   ],
   "source": [
    "## Fare - 1 missing value. \n",
    "\n",
    "full[full.Fare.isnull()]\n",
    "\n",
    "## Third class, Male, embarked from S. Let's take a look at the distribution"
   ]
  },
  {
   "cell_type": "code",
   "execution_count": 10,
   "metadata": {
    "collapsed": false
   },
   "outputs": [
    {
     "name": "stderr",
     "output_type": "stream",
     "text": [
      "/home/gregory/anaconda3/lib/python3.5/site-packages/statsmodels/nonparametric/kdetools.py:20: VisibleDeprecationWarning: using a non-integer number instead of an integer will result in an error in the future\n",
      "  y = X[:m/2+1] + np.r_[0,X[m/2+1:],0]*1j\n"
     ]
    },
    {
     "data": {
      "image/png": "[encoded data removed]",
      "text/plain": [
       "<matplotlib.figure.Figure at 0x7f0d50379438>"
      ]
     },
     "metadata": {},
     "output_type": "display_data"
    }
   ],
   "source": [
    "df_3rd_S = full[(full.Pclass == '3rd Class') & (full.Embarked == 'S') \n",
    "                   & (full.Fare.notnull()) & (full.Sex == 'male')]\n",
    "sns.distplot(df_3rd_S.Fare.dropna(), hist = False)\n",
    "plt.axvline(x = df_3rd_S.Fare.median(), ls = '--', color = 'r');"
   ]
  },
  {
   "cell_type": "code",
   "execution_count": 11,
   "metadata": {
    "collapsed": true
   },
   "outputs": [],
   "source": [
    "## Reasonable to assume that we can use the median fare from distribution plot.\n",
    "\n",
    "full.loc[full.Fare.isnull(), 'Fare'] = df_3rd_S.Fare.median()"
   ]
  },
  {
   "cell_type": "code",
   "execution_count": 12,
   "metadata": {
    "collapsed": false
   },
   "outputs": [
    {
     "name": "stderr",
     "output_type": "stream",
     "text": [
      "/home/gregory/anaconda3/lib/python3.5/site-packages/ipykernel/__main__.py:4: FutureWarning: currently extract(expand=None) means expand=False (return Index/Series/DataFrame) but in a future version of pandas this will be changed to expand=True (return DataFrame)\n"
     ]
    },
    {
     "data": {
      "text/plain": [
       "Mr          757\n",
       "Miss        260\n",
       "Mrs         197\n",
       "Master       61\n",
       "Rev           8\n",
       "Dr            8\n",
       "Col           4\n",
       "Major         2\n",
       "Ms            2\n",
       "Mlle          2\n",
       "Capt          1\n",
       "Mme           1\n",
       "Dona          1\n",
       "Don           1\n",
       "Sir           1\n",
       "Countess      1\n",
       "Lady          1\n",
       "Jonkheer      1\n",
       "Name: Name, dtype: int64"
      ]
     },
     "execution_count": 12,
     "metadata": {},
     "output_type": "execute_result"
    }
   ],
   "source": [
    "## Age - First we are going to create new variable Title which will both help in imputing\n",
    "## age and an interesting variable for survival prediction.\n",
    "\n",
    "salutations = full.Name.str.extract(r'\\s(\\w*)\\.', flags= re.IGNORECASE)\n",
    "salutations.value_counts()"
   ]
  },
  {
   "cell_type": "code",
   "execution_count": 13,
   "metadata": {
    "collapsed": false
   },
   "outputs": [
    {
     "data": {
      "text/plain": [
       "Mr         757\n",
       "Miss       264\n",
       "Mrs        198\n",
       "Master      61\n",
       "Rev          8\n",
       "Dr           8\n",
       "Officer      7\n",
       "Sir          3\n",
       "Lady         3\n",
       "Name: Title, dtype: int64"
      ]
     },
     "execution_count": 13,
     "metadata": {},
     "output_type": "execute_result"
    }
   ],
   "source": [
    "## Can group similar titles together to decrease number of categories.\n",
    "salutations[salutations.isin(['Ms', 'Mlle'])] = 'Miss'\n",
    "salutations[salutations.isin(['Don', 'Jonkheer'])] = 'Sir'\n",
    "salutations[salutations.isin(['Dona', 'Lady', 'Countess'])] = 'Lady'\n",
    "salutations[salutations.isin(['Mme'])] = 'Mrs'\n",
    "salutations[salutations.isin(['Capt', 'Major', 'Col'])] = 'Officer'\n",
    "full['Title'] = salutations\n",
    "\n",
    "full.Title.value_counts()"
   ]
  },
  {
   "cell_type": "code",
   "execution_count": 14,
   "metadata": {
    "collapsed": false
   },
   "outputs": [
    {
     "data": {
      "text/html": [
       "<div>\n",
       "<table border=\"1\" class=\"dataframe\">\n",
       "  <thead>\n",
       "    <tr style=\"text-align: right;\">\n",
       "      <th>Survived</th>\n",
       "      <th>0.0</th>\n",
       "      <th>1.0</th>\n",
       "      <th>All</th>\n",
       "    </tr>\n",
       "    <tr>\n",
       "      <th>Title</th>\n",
       "      <th></th>\n",
       "      <th></th>\n",
       "      <th></th>\n",
       "    </tr>\n",
       "  </thead>\n",
       "  <tbody>\n",
       "    <tr>\n",
       "      <th>Dr</th>\n",
       "      <td>4</td>\n",
       "      <td>3</td>\n",
       "      <td>7</td>\n",
       "    </tr>\n",
       "    <tr>\n",
       "      <th>Lady</th>\n",
       "      <td>0</td>\n",
       "      <td>2</td>\n",
       "      <td>2</td>\n",
       "    </tr>\n",
       "    <tr>\n",
       "      <th>Master</th>\n",
       "      <td>17</td>\n",
       "      <td>23</td>\n",
       "      <td>40</td>\n",
       "    </tr>\n",
       "    <tr>\n",
       "      <th>Miss</th>\n",
       "      <td>55</td>\n",
       "      <td>130</td>\n",
       "      <td>185</td>\n",
       "    </tr>\n",
       "    <tr>\n",
       "      <th>Mr</th>\n",
       "      <td>436</td>\n",
       "      <td>81</td>\n",
       "      <td>517</td>\n",
       "    </tr>\n",
       "    <tr>\n",
       "      <th>Mrs</th>\n",
       "      <td>26</td>\n",
       "      <td>100</td>\n",
       "      <td>126</td>\n",
       "    </tr>\n",
       "    <tr>\n",
       "      <th>Officer</th>\n",
       "      <td>3</td>\n",
       "      <td>2</td>\n",
       "      <td>5</td>\n",
       "    </tr>\n",
       "    <tr>\n",
       "      <th>Rev</th>\n",
       "      <td>6</td>\n",
       "      <td>0</td>\n",
       "      <td>6</td>\n",
       "    </tr>\n",
       "    <tr>\n",
       "      <th>Sir</th>\n",
       "      <td>2</td>\n",
       "      <td>1</td>\n",
       "      <td>3</td>\n",
       "    </tr>\n",
       "    <tr>\n",
       "      <th>All</th>\n",
       "      <td>549</td>\n",
       "      <td>342</td>\n",
       "      <td>891</td>\n",
       "    </tr>\n",
       "  </tbody>\n",
       "</table>\n",
       "</div>"
      ],
      "text/plain": [
       "Survived  0.0  1.0  All\n",
       "Title                  \n",
       "Dr          4    3    7\n",
       "Lady        0    2    2\n",
       "Master     17   23   40\n",
       "Miss       55  130  185\n",
       "Mr        436   81  517\n",
       "Mrs        26  100  126\n",
       "Officer     3    2    5\n",
       "Rev         6    0    6\n",
       "Sir         2    1    3\n",
       "All       549  342  891"
      ]
     },
     "execution_count": 14,
     "metadata": {},
     "output_type": "execute_result"
    }
   ],
   "source": [
    "pd.crosstab(full.Title, full.Survived, margins=True)"
   ]
  },
  {
   "cell_type": "code",
   "execution_count": 15,
   "metadata": {
    "collapsed": false
   },
   "outputs": [],
   "source": [
    "## To impute the missing values of Age, will group data set by both Title and Pclass and for\n",
    "## each group, use the median value. Note - maybe try predictive imputation of Age\n",
    "\n",
    "full['Age_Med_Imp'] = full.Age\n",
    "fill_median = lambda g: g.fillna(g.median())\n",
    "full.Age_Med_Imp = full.groupby(['Title', 'Pclass'])['Age_Med_Imp'].apply(fill_median)"
   ]
  },
  {
   "cell_type": "code",
   "execution_count": 16,
   "metadata": {
    "collapsed": true
   },
   "outputs": [],
   "source": [
    "## Feature Engineering"
   ]
  },
  {
   "cell_type": "code",
   "execution_count": 17,
   "metadata": {
    "collapsed": false
   },
   "outputs": [],
   "source": [
    "## Create a variable Family_Size\n",
    "def family_size(row):\n",
    "    return row['SibSp'] + row['Parch'] + 1\n",
    "\n",
    "full['Family_Size'] = full.apply(family_size, axis= 1)"
   ]
  },
  {
   "cell_type": "code",
   "execution_count": 18,
   "metadata": {
    "collapsed": true
   },
   "outputs": [],
   "source": [
    "## create variable person_type (child, adult_male, adult_female) - will use 14 as the age defining a child"
   ]
  },
  {
   "cell_type": "code",
   "execution_count": 19,
   "metadata": {
    "collapsed": false
   },
   "outputs": [],
   "source": [
    "def person_type(row):\n",
    "    if row['Age_Med_Imp'] <= 14:\n",
    "        return 'child'\n",
    "    elif row['Sex'] == 'male':\n",
    "        return 'adult_male'\n",
    "    else:\n",
    "        return 'adult_female'\n",
    "    \n",
    "full['person_type'] = full.apply(person_type, axis = 1)"
   ]
  },
  {
   "cell_type": "code",
   "execution_count": 20,
   "metadata": {
    "collapsed": false
   },
   "outputs": [
    {
     "name": "stderr",
     "output_type": "stream",
     "text": [
      "/home/gregory/anaconda3/lib/python3.5/site-packages/ipykernel/__main__.py:4: FutureWarning: currently extract(expand=None) means expand=False (return Index/Series/DataFrame) but in a future version of pandas this will be changed to expand=True (return DataFrame)\n"
     ]
    }
   ],
   "source": [
    "## Create a family_group - concatenating Surname and family size. Not perfect but hopefully we can extract some\n",
    "## family surviving patterns\n",
    "\n",
    "full['family_group'] = full.Name.str.extract(r'([\\w\\s]+),', re.IGNORECASE)"
   ]
  },
  {
   "cell_type": "code",
   "execution_count": 21,
   "metadata": {
    "collapsed": true
   },
   "outputs": [],
   "source": [
    "## Create a ticket dictionary that can be used to map key ticket info back to dataframe"
   ]
  },
  {
   "cell_type": "code",
   "execution_count": 22,
   "metadata": {
    "collapsed": false
   },
   "outputs": [],
   "source": [
    "Ticket_dict = {}\n",
    "for index, row in full.iterrows():\n",
    "    Ticket_dict[row['Ticket']] = Ticket_dict.get(row['Ticket'],{'Passenger_count':0, 'Passenger_Surnames': set([]), 'Unique_Surnames': 0})\n",
    "    \n",
    "    Ticket_dict[row['Ticket']]['Passenger_count'] += 1\n",
    "    Ticket_dict[row['Ticket']]['Passenger_Surnames'].add(row['family_group'])\n",
    "    Ticket_dict[row['Ticket']]['Unique_Surnames'] = len(Ticket_dict[row['Ticket']]['Passenger_Surnames'])\n",
    "\n",
    "\n",
    "Ticket_map = pd.DataFrame.from_dict(Ticket_dict,orient='index')\n",
    "\n"
   ]
  },
  {
   "cell_type": "code",
   "execution_count": 23,
   "metadata": {
    "collapsed": true
   },
   "outputs": [],
   "source": [
    "def ticket_type(row):\n",
    "    if row['Passenger_count'] == 1:\n",
    "        return 'individual'\n",
    "    elif (row['Passenger_count'] > 1)&(row['Unique_Surnames'] == 1):\n",
    "        return 'family'\n",
    "    elif (row['Passenger_count'] > 1)&(row['Unique_Surnames'] == row['Passenger_count']):\n",
    "        return 'friends'\n",
    "    else:\n",
    "        return 'family/friends'"
   ]
  },
  {
   "cell_type": "code",
   "execution_count": 24,
   "metadata": {
    "collapsed": false
   },
   "outputs": [
    {
     "data": {
      "text/plain": [
       "individual        713\n",
       "family            149\n",
       "friends            40\n",
       "family/friends     27\n",
       "Name: ticket_type, dtype: int64"
      ]
     },
     "execution_count": 24,
     "metadata": {},
     "output_type": "execute_result"
    }
   ],
   "source": [
    "Ticket_map['ticket_type'] = Ticket_map.apply(ticket_type, axis = 1)\n",
    "Ticket_map.ticket_type.value_counts()"
   ]
  },
  {
   "cell_type": "code",
   "execution_count": 25,
   "metadata": {
    "collapsed": false
   },
   "outputs": [
    {
     "data": {
      "text/html": [
       "<div>\n",
       "<table border=\"1\" class=\"dataframe\">\n",
       "  <thead>\n",
       "    <tr style=\"text-align: right;\">\n",
       "      <th></th>\n",
       "      <th>Passenger_Surnames</th>\n",
       "      <th>Unique_Surnames</th>\n",
       "      <th>Passenger_count</th>\n",
       "      <th>ticket_type</th>\n",
       "    </tr>\n",
       "  </thead>\n",
       "  <tbody>\n",
       "    <tr>\n",
       "      <th>110152</th>\n",
       "      <td>{Rothes, Cherry, Maioni}</td>\n",
       "      <td>3</td>\n",
       "      <td>3</td>\n",
       "      <td>friends</td>\n",
       "    </tr>\n",
       "    <tr>\n",
       "      <th>110413</th>\n",
       "      <td>{Taussig}</td>\n",
       "      <td>1</td>\n",
       "      <td>3</td>\n",
       "      <td>family</td>\n",
       "    </tr>\n",
       "    <tr>\n",
       "      <th>110465</th>\n",
       "      <td>{Clifford, Porter}</td>\n",
       "      <td>2</td>\n",
       "      <td>2</td>\n",
       "      <td>friends</td>\n",
       "    </tr>\n",
       "    <tr>\n",
       "      <th>110469</th>\n",
       "      <td>{Maguire}</td>\n",
       "      <td>1</td>\n",
       "      <td>1</td>\n",
       "      <td>individual</td>\n",
       "    </tr>\n",
       "    <tr>\n",
       "      <th>110489</th>\n",
       "      <td>{Borebank}</td>\n",
       "      <td>1</td>\n",
       "      <td>1</td>\n",
       "      <td>individual</td>\n",
       "    </tr>\n",
       "  </tbody>\n",
       "</table>\n",
       "</div>"
      ],
      "text/plain": [
       "              Passenger_Surnames  Unique_Surnames  Passenger_count ticket_type\n",
       "110152  {Rothes, Cherry, Maioni}                3                3     friends\n",
       "110413                 {Taussig}                1                3      family\n",
       "110465        {Clifford, Porter}                2                2     friends\n",
       "110469                 {Maguire}                1                1  individual\n",
       "110489                {Borebank}                1                1  individual"
      ]
     },
     "execution_count": 25,
     "metadata": {},
     "output_type": "execute_result"
    }
   ],
   "source": [
    "Ticket_map.head()"
   ]
  },
  {
   "cell_type": "code",
   "execution_count": 26,
   "metadata": {
    "collapsed": true
   },
   "outputs": [],
   "source": [
    "## Add ticket_type and passengers_on_ticket variables to main dataframe"
   ]
  },
  {
   "cell_type": "code",
   "execution_count": 27,
   "metadata": {
    "collapsed": true
   },
   "outputs": [],
   "source": [
    "full['ticket_type'] = full.Ticket.map(Ticket_map.ticket_type)\n",
    "full['passengers_on_ticket'] = full.Ticket.map(Ticket_map.Passenger_count)"
   ]
  },
  {
   "cell_type": "code",
   "execution_count": 28,
   "metadata": {
    "collapsed": false
   },
   "outputs": [
    {
     "data": {
      "text/html": [
       "<div>\n",
       "<table border=\"1\" class=\"dataframe\">\n",
       "  <thead>\n",
       "    <tr style=\"text-align: right;\">\n",
       "      <th></th>\n",
       "      <th>Age</th>\n",
       "      <th>Cabin</th>\n",
       "      <th>Embarked</th>\n",
       "      <th>Fare</th>\n",
       "      <th>Name</th>\n",
       "      <th>Parch</th>\n",
       "      <th>PassengerId</th>\n",
       "      <th>Pclass</th>\n",
       "      <th>Sex</th>\n",
       "      <th>SibSp</th>\n",
       "      <th>...</th>\n",
       "      <th>Ticket</th>\n",
       "      <th>df</th>\n",
       "      <th>Deck</th>\n",
       "      <th>Title</th>\n",
       "      <th>Age_Med_Imp</th>\n",
       "      <th>Family_Size</th>\n",
       "      <th>person_type</th>\n",
       "      <th>family_group</th>\n",
       "      <th>ticket_type</th>\n",
       "      <th>passengers_on_ticket</th>\n",
       "    </tr>\n",
       "  </thead>\n",
       "  <tbody>\n",
       "    <tr>\n",
       "      <th>0</th>\n",
       "      <td>22.0</td>\n",
       "      <td>NaN</td>\n",
       "      <td>S</td>\n",
       "      <td>7.2500</td>\n",
       "      <td>Braund, Mr. Owen Harris</td>\n",
       "      <td>0</td>\n",
       "      <td>1</td>\n",
       "      <td>3rd Class</td>\n",
       "      <td>male</td>\n",
       "      <td>1</td>\n",
       "      <td>...</td>\n",
       "      <td>A/5 21171</td>\n",
       "      <td>Train</td>\n",
       "      <td>U</td>\n",
       "      <td>Mr</td>\n",
       "      <td>22.0</td>\n",
       "      <td>2</td>\n",
       "      <td>adult_male</td>\n",
       "      <td>Braund</td>\n",
       "      <td>individual</td>\n",
       "      <td>1</td>\n",
       "    </tr>\n",
       "    <tr>\n",
       "      <th>1</th>\n",
       "      <td>38.0</td>\n",
       "      <td>C85</td>\n",
       "      <td>C</td>\n",
       "      <td>71.2833</td>\n",
       "      <td>Cumings, Mrs. John Bradley (Florence Briggs Th...</td>\n",
       "      <td>0</td>\n",
       "      <td>2</td>\n",
       "      <td>1st Class</td>\n",
       "      <td>female</td>\n",
       "      <td>1</td>\n",
       "      <td>...</td>\n",
       "      <td>PC 17599</td>\n",
       "      <td>Train</td>\n",
       "      <td>C</td>\n",
       "      <td>Mrs</td>\n",
       "      <td>38.0</td>\n",
       "      <td>2</td>\n",
       "      <td>adult_female</td>\n",
       "      <td>Cumings</td>\n",
       "      <td>family</td>\n",
       "      <td>2</td>\n",
       "    </tr>\n",
       "    <tr>\n",
       "      <th>2</th>\n",
       "      <td>26.0</td>\n",
       "      <td>NaN</td>\n",
       "      <td>S</td>\n",
       "      <td>7.9250</td>\n",
       "      <td>Heikkinen, Miss. Laina</td>\n",
       "      <td>0</td>\n",
       "      <td>3</td>\n",
       "      <td>3rd Class</td>\n",
       "      <td>female</td>\n",
       "      <td>0</td>\n",
       "      <td>...</td>\n",
       "      <td>STON/O2. 3101282</td>\n",
       "      <td>Train</td>\n",
       "      <td>U</td>\n",
       "      <td>Miss</td>\n",
       "      <td>26.0</td>\n",
       "      <td>1</td>\n",
       "      <td>adult_female</td>\n",
       "      <td>Heikkinen</td>\n",
       "      <td>individual</td>\n",
       "      <td>1</td>\n",
       "    </tr>\n",
       "    <tr>\n",
       "      <th>3</th>\n",
       "      <td>35.0</td>\n",
       "      <td>C123</td>\n",
       "      <td>S</td>\n",
       "      <td>53.1000</td>\n",
       "      <td>Futrelle, Mrs. Jacques Heath (Lily May Peel)</td>\n",
       "      <td>0</td>\n",
       "      <td>4</td>\n",
       "      <td>1st Class</td>\n",
       "      <td>female</td>\n",
       "      <td>1</td>\n",
       "      <td>...</td>\n",
       "      <td>113803</td>\n",
       "      <td>Train</td>\n",
       "      <td>C</td>\n",
       "      <td>Mrs</td>\n",
       "      <td>35.0</td>\n",
       "      <td>2</td>\n",
       "      <td>adult_female</td>\n",
       "      <td>Futrelle</td>\n",
       "      <td>family</td>\n",
       "      <td>2</td>\n",
       "    </tr>\n",
       "    <tr>\n",
       "      <th>4</th>\n",
       "      <td>35.0</td>\n",
       "      <td>NaN</td>\n",
       "      <td>S</td>\n",
       "      <td>8.0500</td>\n",
       "      <td>Allen, Mr. William Henry</td>\n",
       "      <td>0</td>\n",
       "      <td>5</td>\n",
       "      <td>3rd Class</td>\n",
       "      <td>male</td>\n",
       "      <td>0</td>\n",
       "      <td>...</td>\n",
       "      <td>373450</td>\n",
       "      <td>Train</td>\n",
       "      <td>U</td>\n",
       "      <td>Mr</td>\n",
       "      <td>35.0</td>\n",
       "      <td>1</td>\n",
       "      <td>adult_male</td>\n",
       "      <td>Allen</td>\n",
       "      <td>individual</td>\n",
       "      <td>1</td>\n",
       "    </tr>\n",
       "  </tbody>\n",
       "</table>\n",
       "<p>5 rows × 21 columns</p>\n",
       "</div>"
      ],
      "text/plain": [
       "    Age Cabin Embarked     Fare  \\\n",
       "0  22.0   NaN        S   7.2500   \n",
       "1  38.0   C85        C  71.2833   \n",
       "2  26.0   NaN        S   7.9250   \n",
       "3  35.0  C123        S  53.1000   \n",
       "4  35.0   NaN        S   8.0500   \n",
       "\n",
       "                                                Name  Parch  PassengerId  \\\n",
       "0                            Braund, Mr. Owen Harris      0            1   \n",
       "1  Cumings, Mrs. John Bradley (Florence Briggs Th...      0            2   \n",
       "2                             Heikkinen, Miss. Laina      0            3   \n",
       "3       Futrelle, Mrs. Jacques Heath (Lily May Peel)      0            4   \n",
       "4                           Allen, Mr. William Henry      0            5   \n",
       "\n",
       "      Pclass     Sex  SibSp         ...                     Ticket     df  \\\n",
       "0  3rd Class    male      1         ...                  A/5 21171  Train   \n",
       "1  1st Class  female      1         ...                   PC 17599  Train   \n",
       "2  3rd Class  female      0         ...           STON/O2. 3101282  Train   \n",
       "3  1st Class  female      1         ...                     113803  Train   \n",
       "4  3rd Class    male      0         ...                     373450  Train   \n",
       "\n",
       "  Deck Title Age_Med_Imp  Family_Size   person_type family_group ticket_type  \\\n",
       "0    U    Mr        22.0            2    adult_male       Braund  individual   \n",
       "1    C   Mrs        38.0            2  adult_female      Cumings      family   \n",
       "2    U  Miss        26.0            1  adult_female    Heikkinen  individual   \n",
       "3    C   Mrs        35.0            2  adult_female     Futrelle      family   \n",
       "4    U    Mr        35.0            1    adult_male        Allen  individual   \n",
       "\n",
       "  passengers_on_ticket  \n",
       "0                    1  \n",
       "1                    2  \n",
       "2                    1  \n",
       "3                    2  \n",
       "4                    1  \n",
       "\n",
       "[5 rows x 21 columns]"
      ]
     },
     "execution_count": 28,
     "metadata": {},
     "output_type": "execute_result"
    }
   ],
   "source": [
    "full.head()"
   ]
  },
  {
   "cell_type": "code",
   "execution_count": 29,
   "metadata": {
    "collapsed": false,
    "scrolled": false
   },
   "outputs": [],
   "source": [
    "full['Singleton'] = np.where((full.Family_Size == 1)&(full.passengers_on_ticket == 1), 1, 0)"
   ]
  },
  {
   "cell_type": "code",
   "execution_count": 30,
   "metadata": {
    "collapsed": true
   },
   "outputs": [],
   "source": [
    "def print_full(x):\n",
    "    pd.set_option('display.max_rows', len(x))\n",
    "    print(x)\n",
    "    pd.reset_option('display.max_rows')"
   ]
  },
  {
   "cell_type": "code",
   "execution_count": 31,
   "metadata": {
    "collapsed": false
   },
   "outputs": [
    {
     "name": "stdout",
     "output_type": "stream",
     "text": [
      "     family_group  Family_Size ticket_type  passengers_on_ticket    Ticket\n",
      "356      Bowerman            2     friends                     2    113505\n",
      "166      Chibnall            2     friends                     2    113505\n",
      "1041     Earnshaw            2     friends                     3     11767\n",
      "879        Potter            2     friends                     3     11767\n",
      "571      Appleton            3     friends                     2     11769\n",
      "1247        Brown            3     friends                     2     11769\n",
      "925          Mock            2     friends                     2     13236\n",
      "1013     Schabert            2     friends                     2     13236\n",
      "275       Andrews            2     friends                     3     13502\n",
      "765      Hogeboom            2     friends                     3     13502\n",
      "259       Parrish            2     friends                     2    230433\n",
      "880       Shelley            2     friends                     2    230433\n",
      "689        Madill            2     friends                     4     24160\n",
      "779        Robert            2     friends                     4     24160\n",
      "496        Eustis            2     friends                     2     36947\n",
      "591    Stephenson            2     friends                     2     36947\n",
      "599   Duff Gordon            2     friends                     2  PC 17485\n"
     ]
    }
   ],
   "source": [
    "print_full(full[['family_group', 'Family_Size', 'ticket_type', 'passengers_on_ticket', \n",
    "                 'Ticket']][(full.ticket_type == 'friends')&(full.Family_Size>1)].sort_values(['Ticket','family_group']))"
   ]
  },
  {
   "cell_type": "code",
   "execution_count": 32,
   "metadata": {
    "collapsed": false,
    "scrolled": true
   },
   "outputs": [
    {
     "data": {
      "text/html": [
       "<div>\n",
       "<table border=\"1\" class=\"dataframe\">\n",
       "  <thead>\n",
       "    <tr style=\"text-align: right;\">\n",
       "      <th></th>\n",
       "      <th>Age</th>\n",
       "      <th>Cabin</th>\n",
       "      <th>Embarked</th>\n",
       "      <th>Fare</th>\n",
       "      <th>Name</th>\n",
       "      <th>Parch</th>\n",
       "      <th>PassengerId</th>\n",
       "      <th>Pclass</th>\n",
       "      <th>Sex</th>\n",
       "      <th>SibSp</th>\n",
       "      <th>...</th>\n",
       "      <th>df</th>\n",
       "      <th>Deck</th>\n",
       "      <th>Title</th>\n",
       "      <th>Age_Med_Imp</th>\n",
       "      <th>Family_Size</th>\n",
       "      <th>person_type</th>\n",
       "      <th>family_group</th>\n",
       "      <th>ticket_type</th>\n",
       "      <th>passengers_on_ticket</th>\n",
       "      <th>Singleton</th>\n",
       "    </tr>\n",
       "  </thead>\n",
       "  <tbody>\n",
       "    <tr>\n",
       "      <th>13</th>\n",
       "      <td>39.0</td>\n",
       "      <td>NaN</td>\n",
       "      <td>S</td>\n",
       "      <td>31.2750</td>\n",
       "      <td>Andersson, Mr. Anders Johan</td>\n",
       "      <td>5</td>\n",
       "      <td>14</td>\n",
       "      <td>3rd Class</td>\n",
       "      <td>male</td>\n",
       "      <td>1</td>\n",
       "      <td>...</td>\n",
       "      <td>Train</td>\n",
       "      <td>U</td>\n",
       "      <td>Mr</td>\n",
       "      <td>39.0</td>\n",
       "      <td>7</td>\n",
       "      <td>adult_male</td>\n",
       "      <td>Andersson</td>\n",
       "      <td>family</td>\n",
       "      <td>7</td>\n",
       "      <td>0</td>\n",
       "    </tr>\n",
       "    <tr>\n",
       "      <th>68</th>\n",
       "      <td>17.0</td>\n",
       "      <td>NaN</td>\n",
       "      <td>S</td>\n",
       "      <td>7.9250</td>\n",
       "      <td>Andersson, Miss. Erna Alexandra</td>\n",
       "      <td>2</td>\n",
       "      <td>69</td>\n",
       "      <td>3rd Class</td>\n",
       "      <td>female</td>\n",
       "      <td>4</td>\n",
       "      <td>...</td>\n",
       "      <td>Train</td>\n",
       "      <td>U</td>\n",
       "      <td>Miss</td>\n",
       "      <td>17.0</td>\n",
       "      <td>7</td>\n",
       "      <td>adult_female</td>\n",
       "      <td>Andersson</td>\n",
       "      <td>individual</td>\n",
       "      <td>1</td>\n",
       "      <td>0</td>\n",
       "    </tr>\n",
       "    <tr>\n",
       "      <th>119</th>\n",
       "      <td>2.0</td>\n",
       "      <td>NaN</td>\n",
       "      <td>S</td>\n",
       "      <td>31.2750</td>\n",
       "      <td>Andersson, Miss. Ellis Anna Maria</td>\n",
       "      <td>2</td>\n",
       "      <td>120</td>\n",
       "      <td>3rd Class</td>\n",
       "      <td>female</td>\n",
       "      <td>4</td>\n",
       "      <td>...</td>\n",
       "      <td>Train</td>\n",
       "      <td>U</td>\n",
       "      <td>Miss</td>\n",
       "      <td>2.0</td>\n",
       "      <td>7</td>\n",
       "      <td>child</td>\n",
       "      <td>Andersson</td>\n",
       "      <td>family</td>\n",
       "      <td>7</td>\n",
       "      <td>0</td>\n",
       "    </tr>\n",
       "    <tr>\n",
       "      <th>146</th>\n",
       "      <td>27.0</td>\n",
       "      <td>NaN</td>\n",
       "      <td>S</td>\n",
       "      <td>7.7958</td>\n",
       "      <td>Andersson, Mr. August Edvard (\"Wennerstrom\")</td>\n",
       "      <td>0</td>\n",
       "      <td>147</td>\n",
       "      <td>3rd Class</td>\n",
       "      <td>male</td>\n",
       "      <td>0</td>\n",
       "      <td>...</td>\n",
       "      <td>Train</td>\n",
       "      <td>U</td>\n",
       "      <td>Mr</td>\n",
       "      <td>27.0</td>\n",
       "      <td>1</td>\n",
       "      <td>adult_male</td>\n",
       "      <td>Andersson</td>\n",
       "      <td>individual</td>\n",
       "      <td>1</td>\n",
       "      <td>1</td>\n",
       "    </tr>\n",
       "    <tr>\n",
       "      <th>541</th>\n",
       "      <td>9.0</td>\n",
       "      <td>NaN</td>\n",
       "      <td>S</td>\n",
       "      <td>31.2750</td>\n",
       "      <td>Andersson, Miss. Ingeborg Constanzia</td>\n",
       "      <td>2</td>\n",
       "      <td>542</td>\n",
       "      <td>3rd Class</td>\n",
       "      <td>female</td>\n",
       "      <td>4</td>\n",
       "      <td>...</td>\n",
       "      <td>Train</td>\n",
       "      <td>U</td>\n",
       "      <td>Miss</td>\n",
       "      <td>9.0</td>\n",
       "      <td>7</td>\n",
       "      <td>child</td>\n",
       "      <td>Andersson</td>\n",
       "      <td>family</td>\n",
       "      <td>7</td>\n",
       "      <td>0</td>\n",
       "    </tr>\n",
       "    <tr>\n",
       "      <th>542</th>\n",
       "      <td>11.0</td>\n",
       "      <td>NaN</td>\n",
       "      <td>S</td>\n",
       "      <td>31.2750</td>\n",
       "      <td>Andersson, Miss. Sigrid Elisabeth</td>\n",
       "      <td>2</td>\n",
       "      <td>543</td>\n",
       "      <td>3rd Class</td>\n",
       "      <td>female</td>\n",
       "      <td>4</td>\n",
       "      <td>...</td>\n",
       "      <td>Train</td>\n",
       "      <td>U</td>\n",
       "      <td>Miss</td>\n",
       "      <td>11.0</td>\n",
       "      <td>7</td>\n",
       "      <td>child</td>\n",
       "      <td>Andersson</td>\n",
       "      <td>family</td>\n",
       "      <td>7</td>\n",
       "      <td>0</td>\n",
       "    </tr>\n",
       "    <tr>\n",
       "      <th>610</th>\n",
       "      <td>39.0</td>\n",
       "      <td>NaN</td>\n",
       "      <td>S</td>\n",
       "      <td>31.2750</td>\n",
       "      <td>Andersson, Mrs. Anders Johan (Alfrida Konstant...</td>\n",
       "      <td>5</td>\n",
       "      <td>611</td>\n",
       "      <td>3rd Class</td>\n",
       "      <td>female</td>\n",
       "      <td>1</td>\n",
       "      <td>...</td>\n",
       "      <td>Train</td>\n",
       "      <td>U</td>\n",
       "      <td>Mrs</td>\n",
       "      <td>39.0</td>\n",
       "      <td>7</td>\n",
       "      <td>adult_female</td>\n",
       "      <td>Andersson</td>\n",
       "      <td>family</td>\n",
       "      <td>7</td>\n",
       "      <td>0</td>\n",
       "    </tr>\n",
       "    <tr>\n",
       "      <th>813</th>\n",
       "      <td>6.0</td>\n",
       "      <td>NaN</td>\n",
       "      <td>S</td>\n",
       "      <td>31.2750</td>\n",
       "      <td>Andersson, Miss. Ebba Iris Alfrida</td>\n",
       "      <td>2</td>\n",
       "      <td>814</td>\n",
       "      <td>3rd Class</td>\n",
       "      <td>female</td>\n",
       "      <td>4</td>\n",
       "      <td>...</td>\n",
       "      <td>Train</td>\n",
       "      <td>U</td>\n",
       "      <td>Miss</td>\n",
       "      <td>6.0</td>\n",
       "      <td>7</td>\n",
       "      <td>child</td>\n",
       "      <td>Andersson</td>\n",
       "      <td>family</td>\n",
       "      <td>7</td>\n",
       "      <td>0</td>\n",
       "    </tr>\n",
       "    <tr>\n",
       "      <th>850</th>\n",
       "      <td>4.0</td>\n",
       "      <td>NaN</td>\n",
       "      <td>S</td>\n",
       "      <td>31.2750</td>\n",
       "      <td>Andersson, Master. Sigvard Harald Elias</td>\n",
       "      <td>2</td>\n",
       "      <td>851</td>\n",
       "      <td>3rd Class</td>\n",
       "      <td>male</td>\n",
       "      <td>4</td>\n",
       "      <td>...</td>\n",
       "      <td>Train</td>\n",
       "      <td>U</td>\n",
       "      <td>Master</td>\n",
       "      <td>4.0</td>\n",
       "      <td>7</td>\n",
       "      <td>child</td>\n",
       "      <td>Andersson</td>\n",
       "      <td>family</td>\n",
       "      <td>7</td>\n",
       "      <td>0</td>\n",
       "    </tr>\n",
       "    <tr>\n",
       "      <th>1105</th>\n",
       "      <td>38.0</td>\n",
       "      <td>NaN</td>\n",
       "      <td>S</td>\n",
       "      <td>7.7750</td>\n",
       "      <td>Andersson, Miss. Ida Augusta Margareta</td>\n",
       "      <td>2</td>\n",
       "      <td>1106</td>\n",
       "      <td>3rd Class</td>\n",
       "      <td>female</td>\n",
       "      <td>4</td>\n",
       "      <td>...</td>\n",
       "      <td>Test</td>\n",
       "      <td>U</td>\n",
       "      <td>Miss</td>\n",
       "      <td>38.0</td>\n",
       "      <td>7</td>\n",
       "      <td>adult_female</td>\n",
       "      <td>Andersson</td>\n",
       "      <td>individual</td>\n",
       "      <td>1</td>\n",
       "      <td>0</td>\n",
       "    </tr>\n",
       "    <tr>\n",
       "      <th>1211</th>\n",
       "      <td>26.0</td>\n",
       "      <td>NaN</td>\n",
       "      <td>S</td>\n",
       "      <td>7.7750</td>\n",
       "      <td>Andersson, Mr. Johan Samuel</td>\n",
       "      <td>0</td>\n",
       "      <td>1212</td>\n",
       "      <td>3rd Class</td>\n",
       "      <td>male</td>\n",
       "      <td>0</td>\n",
       "      <td>...</td>\n",
       "      <td>Test</td>\n",
       "      <td>U</td>\n",
       "      <td>Mr</td>\n",
       "      <td>26.0</td>\n",
       "      <td>1</td>\n",
       "      <td>adult_male</td>\n",
       "      <td>Andersson</td>\n",
       "      <td>individual</td>\n",
       "      <td>1</td>\n",
       "      <td>1</td>\n",
       "    </tr>\n",
       "  </tbody>\n",
       "</table>\n",
       "<p>11 rows × 22 columns</p>\n",
       "</div>"
      ],
      "text/plain": [
       "       Age Cabin Embarked     Fare  \\\n",
       "13    39.0   NaN        S  31.2750   \n",
       "68    17.0   NaN        S   7.9250   \n",
       "119    2.0   NaN        S  31.2750   \n",
       "146   27.0   NaN        S   7.7958   \n",
       "541    9.0   NaN        S  31.2750   \n",
       "542   11.0   NaN        S  31.2750   \n",
       "610   39.0   NaN        S  31.2750   \n",
       "813    6.0   NaN        S  31.2750   \n",
       "850    4.0   NaN        S  31.2750   \n",
       "1105  38.0   NaN        S   7.7750   \n",
       "1211  26.0   NaN        S   7.7750   \n",
       "\n",
       "                                                   Name  Parch  PassengerId  \\\n",
       "13                          Andersson, Mr. Anders Johan      5           14   \n",
       "68                      Andersson, Miss. Erna Alexandra      2           69   \n",
       "119                   Andersson, Miss. Ellis Anna Maria      2          120   \n",
       "146        Andersson, Mr. August Edvard (\"Wennerstrom\")      0          147   \n",
       "541                Andersson, Miss. Ingeborg Constanzia      2          542   \n",
       "542                   Andersson, Miss. Sigrid Elisabeth      2          543   \n",
       "610   Andersson, Mrs. Anders Johan (Alfrida Konstant...      5          611   \n",
       "813                  Andersson, Miss. Ebba Iris Alfrida      2          814   \n",
       "850             Andersson, Master. Sigvard Harald Elias      2          851   \n",
       "1105             Andersson, Miss. Ida Augusta Margareta      2         1106   \n",
       "1211                        Andersson, Mr. Johan Samuel      0         1212   \n",
       "\n",
       "         Pclass     Sex  SibSp    ...        df Deck   Title Age_Med_Imp  \\\n",
       "13    3rd Class    male      1    ...     Train    U      Mr        39.0   \n",
       "68    3rd Class  female      4    ...     Train    U    Miss        17.0   \n",
       "119   3rd Class  female      4    ...     Train    U    Miss         2.0   \n",
       "146   3rd Class    male      0    ...     Train    U      Mr        27.0   \n",
       "541   3rd Class  female      4    ...     Train    U    Miss         9.0   \n",
       "542   3rd Class  female      4    ...     Train    U    Miss        11.0   \n",
       "610   3rd Class  female      1    ...     Train    U     Mrs        39.0   \n",
       "813   3rd Class  female      4    ...     Train    U    Miss         6.0   \n",
       "850   3rd Class    male      4    ...     Train    U  Master         4.0   \n",
       "1105  3rd Class  female      4    ...      Test    U    Miss        38.0   \n",
       "1211  3rd Class    male      0    ...      Test    U      Mr        26.0   \n",
       "\n",
       "     Family_Size   person_type  family_group ticket_type passengers_on_ticket  \\\n",
       "13             7    adult_male     Andersson      family                    7   \n",
       "68             7  adult_female     Andersson  individual                    1   \n",
       "119            7         child     Andersson      family                    7   \n",
       "146            1    adult_male     Andersson  individual                    1   \n",
       "541            7         child     Andersson      family                    7   \n",
       "542            7         child     Andersson      family                    7   \n",
       "610            7  adult_female     Andersson      family                    7   \n",
       "813            7         child     Andersson      family                    7   \n",
       "850            7         child     Andersson      family                    7   \n",
       "1105           7  adult_female     Andersson  individual                    1   \n",
       "1211           1    adult_male     Andersson  individual                    1   \n",
       "\n",
       "     Singleton  \n",
       "13           0  \n",
       "68           0  \n",
       "119          0  \n",
       "146          1  \n",
       "541          0  \n",
       "542          0  \n",
       "610          0  \n",
       "813          0  \n",
       "850          0  \n",
       "1105         0  \n",
       "1211         1  \n",
       "\n",
       "[11 rows x 22 columns]"
      ]
     },
     "execution_count": 32,
     "metadata": {},
     "output_type": "execute_result"
    }
   ],
   "source": [
    "full[full.family_group.str.contains('Andersson')]"
   ]
  },
  {
   "cell_type": "code",
   "execution_count": 33,
   "metadata": {
    "collapsed": true
   },
   "outputs": [],
   "source": [
    "## create variable child_died. This will be set to 1 for passengers, who had a child die that was in their family group\n",
    "## (by surname) or on their ticket."
   ]
  },
  {
   "cell_type": "code",
   "execution_count": 34,
   "metadata": {
    "collapsed": false
   },
   "outputs": [],
   "source": [
    "dead_child = full[(full.person_type == 'child') & (full.Survived == 0) & (full.Singleton == 0)][['Name', 'Ticket', 'family_group']]\n",
    "dead_child\n",
    "\n",
    "def child_died(row):\n",
    "    if row['Singleton'] == 1:\n",
    "        return 0\n",
    "    elif ((row['family_group'] in dead_child.family_group.values)|(row['Ticket'] in dead_child.Ticket.values)):\n",
    "        return 1\n",
    "    else:\n",
    "        return 0\n",
    "\n",
    "full['child_died'] = full.apply(child_died, axis= 1)"
   ]
  },
  {
   "cell_type": "code",
   "execution_count": 35,
   "metadata": {
    "collapsed": false
   },
   "outputs": [
    {
     "data": {
      "text/plain": [
       "0    1224\n",
       "1      85\n",
       "Name: child_died, dtype: int64"
      ]
     },
     "execution_count": 35,
     "metadata": {},
     "output_type": "execute_result"
    }
   ],
   "source": [
    "full.child_died.value_counts()"
   ]
  },
  {
   "cell_type": "code",
   "execution_count": 36,
   "metadata": {
    "collapsed": false
   },
   "outputs": [],
   "source": [
    "perishing_female_relation = full[(full.person_type == 'adult_female') & (full.Survived == 0) & (full.Singleton == 0)][['Name', 'Ticket', 'family_group']]\n",
    "\n",
    "\n",
    "def female_perished_in_group(row):\n",
    "    if row['Singleton'] == 1:\n",
    "        return 0\n",
    "    elif ((row['family_group'] in perishing_female_relation.family_group.values)|(row['Ticket'] in perishing_female_relation.Ticket.values)):\n",
    "        return 1\n",
    "    else:\n",
    "        return 0\n",
    "\n",
    "full['perishing_female_in_group'] = full.apply(female_perished_in_group, axis= 1)"
   ]
  },
  {
   "cell_type": "code",
   "execution_count": 37,
   "metadata": {
    "collapsed": false
   },
   "outputs": [
    {
     "data": {
      "text/plain": [
       "0    1185\n",
       "1     124\n",
       "Name: perishing_female_in_group, dtype: int64"
      ]
     },
     "execution_count": 37,
     "metadata": {},
     "output_type": "execute_result"
    }
   ],
   "source": [
    "full.perishing_female_in_group.value_counts()"
   ]
  },
  {
   "cell_type": "code",
   "execution_count": 38,
   "metadata": {
    "collapsed": true
   },
   "outputs": [],
   "source": [
    "surviving_male_relation = full[(full.person_type == 'adult_male') & (full.Survived == 1) & (full.Singleton == 0)][['Name', 'Ticket', 'family_group']]\n",
    "\n",
    "\n",
    "def male_survivor_in_group(row):\n",
    "    if row['Singleton'] == 1:\n",
    "        return 0\n",
    "    elif ((row['family_group'] in surviving_male_relation.family_group.values)|(row['Ticket'] in surviving_male_relation.Ticket.values)):\n",
    "        return 1\n",
    "    else:\n",
    "        return 0\n",
    "\n",
    "full['surviving_male_in_group'] = full.apply(male_survivor_in_group, axis= 1)"
   ]
  },
  {
   "cell_type": "code",
   "execution_count": 39,
   "metadata": {
    "collapsed": false
   },
   "outputs": [
    {
     "data": {
      "text/plain": [
       "0    1238\n",
       "1      71\n",
       "Name: surviving_male_in_group, dtype: int64"
      ]
     },
     "execution_count": 39,
     "metadata": {},
     "output_type": "execute_result"
    }
   ],
   "source": [
    "full.surviving_male_in_group.value_counts()"
   ]
  },
  {
   "cell_type": "code",
   "execution_count": 40,
   "metadata": {
    "collapsed": false
   },
   "outputs": [
    {
     "data": {
      "text/plain": [
       "array(['Age', 'Cabin', 'Embarked', 'Fare', 'Name', 'Parch', 'PassengerId',\n",
       "       'Pclass', 'Sex', 'SibSp', 'Survived', 'Ticket', 'df', 'Deck',\n",
       "       'Title', 'Age_Med_Imp', 'Family_Size', 'person_type',\n",
       "       'family_group', 'ticket_type', 'passengers_on_ticket', 'Singleton',\n",
       "       'child_died', 'perishing_female_in_group', 'surviving_male_in_group'], dtype=object)"
      ]
     },
     "execution_count": 40,
     "metadata": {},
     "output_type": "execute_result"
    }
   ],
   "source": [
    "full.columns.values"
   ]
  },
  {
   "cell_type": "code",
   "execution_count": 41,
   "metadata": {
    "collapsed": false
   },
   "outputs": [
    {
     "data": {
      "text/html": [
       "<div>\n",
       "<table border=\"1\" class=\"dataframe\">\n",
       "  <thead>\n",
       "    <tr style=\"text-align: right;\">\n",
       "      <th></th>\n",
       "      <th>Embarked</th>\n",
       "      <th>Fare</th>\n",
       "      <th>Parch</th>\n",
       "      <th>Pclass</th>\n",
       "      <th>Sex</th>\n",
       "      <th>SibSp</th>\n",
       "      <th>Deck</th>\n",
       "      <th>Title</th>\n",
       "      <th>Age_Med_Imp</th>\n",
       "      <th>Family_Size</th>\n",
       "      <th>person_type</th>\n",
       "      <th>family_group</th>\n",
       "      <th>ticket_type</th>\n",
       "      <th>passengers_on_ticket</th>\n",
       "      <th>Singleton</th>\n",
       "      <th>child_died</th>\n",
       "      <th>perishing_female_in_group</th>\n",
       "      <th>surviving_male_in_group</th>\n",
       "    </tr>\n",
       "  </thead>\n",
       "  <tbody>\n",
       "    <tr>\n",
       "      <th>0</th>\n",
       "      <td>S</td>\n",
       "      <td>7.2500</td>\n",
       "      <td>0</td>\n",
       "      <td>3rd Class</td>\n",
       "      <td>male</td>\n",
       "      <td>1</td>\n",
       "      <td>U</td>\n",
       "      <td>Mr</td>\n",
       "      <td>22.0</td>\n",
       "      <td>2</td>\n",
       "      <td>adult_male</td>\n",
       "      <td>Braund</td>\n",
       "      <td>individual</td>\n",
       "      <td>1</td>\n",
       "      <td>0</td>\n",
       "      <td>0</td>\n",
       "      <td>0</td>\n",
       "      <td>0</td>\n",
       "    </tr>\n",
       "    <tr>\n",
       "      <th>1</th>\n",
       "      <td>C</td>\n",
       "      <td>71.2833</td>\n",
       "      <td>0</td>\n",
       "      <td>1st Class</td>\n",
       "      <td>female</td>\n",
       "      <td>1</td>\n",
       "      <td>C</td>\n",
       "      <td>Mrs</td>\n",
       "      <td>38.0</td>\n",
       "      <td>2</td>\n",
       "      <td>adult_female</td>\n",
       "      <td>Cumings</td>\n",
       "      <td>family</td>\n",
       "      <td>2</td>\n",
       "      <td>0</td>\n",
       "      <td>0</td>\n",
       "      <td>0</td>\n",
       "      <td>0</td>\n",
       "    </tr>\n",
       "    <tr>\n",
       "      <th>2</th>\n",
       "      <td>S</td>\n",
       "      <td>7.9250</td>\n",
       "      <td>0</td>\n",
       "      <td>3rd Class</td>\n",
       "      <td>female</td>\n",
       "      <td>0</td>\n",
       "      <td>U</td>\n",
       "      <td>Miss</td>\n",
       "      <td>26.0</td>\n",
       "      <td>1</td>\n",
       "      <td>adult_female</td>\n",
       "      <td>Heikkinen</td>\n",
       "      <td>individual</td>\n",
       "      <td>1</td>\n",
       "      <td>1</td>\n",
       "      <td>0</td>\n",
       "      <td>0</td>\n",
       "      <td>0</td>\n",
       "    </tr>\n",
       "    <tr>\n",
       "      <th>3</th>\n",
       "      <td>S</td>\n",
       "      <td>53.1000</td>\n",
       "      <td>0</td>\n",
       "      <td>1st Class</td>\n",
       "      <td>female</td>\n",
       "      <td>1</td>\n",
       "      <td>C</td>\n",
       "      <td>Mrs</td>\n",
       "      <td>35.0</td>\n",
       "      <td>2</td>\n",
       "      <td>adult_female</td>\n",
       "      <td>Futrelle</td>\n",
       "      <td>family</td>\n",
       "      <td>2</td>\n",
       "      <td>0</td>\n",
       "      <td>0</td>\n",
       "      <td>0</td>\n",
       "      <td>0</td>\n",
       "    </tr>\n",
       "    <tr>\n",
       "      <th>4</th>\n",
       "      <td>S</td>\n",
       "      <td>8.0500</td>\n",
       "      <td>0</td>\n",
       "      <td>3rd Class</td>\n",
       "      <td>male</td>\n",
       "      <td>0</td>\n",
       "      <td>U</td>\n",
       "      <td>Mr</td>\n",
       "      <td>35.0</td>\n",
       "      <td>1</td>\n",
       "      <td>adult_male</td>\n",
       "      <td>Allen</td>\n",
       "      <td>individual</td>\n",
       "      <td>1</td>\n",
       "      <td>1</td>\n",
       "      <td>0</td>\n",
       "      <td>0</td>\n",
       "      <td>0</td>\n",
       "    </tr>\n",
       "  </tbody>\n",
       "</table>\n",
       "</div>"
      ],
      "text/plain": [
       "  Embarked     Fare  Parch     Pclass     Sex  SibSp Deck Title  Age_Med_Imp  \\\n",
       "0        S   7.2500      0  3rd Class    male      1    U    Mr         22.0   \n",
       "1        C  71.2833      0  1st Class  female      1    C   Mrs         38.0   \n",
       "2        S   7.9250      0  3rd Class  female      0    U  Miss         26.0   \n",
       "3        S  53.1000      0  1st Class  female      1    C   Mrs         35.0   \n",
       "4        S   8.0500      0  3rd Class    male      0    U    Mr         35.0   \n",
       "\n",
       "   Family_Size   person_type family_group ticket_type  passengers_on_ticket  \\\n",
       "0            2    adult_male       Braund  individual                     1   \n",
       "1            2  adult_female      Cumings      family                     2   \n",
       "2            1  adult_female    Heikkinen  individual                     1   \n",
       "3            2  adult_female     Futrelle      family                     2   \n",
       "4            1    adult_male        Allen  individual                     1   \n",
       "\n",
       "   Singleton  child_died  perishing_female_in_group  surviving_male_in_group  \n",
       "0          0           0                          0                        0  \n",
       "1          0           0                          0                        0  \n",
       "2          1           0                          0                        0  \n",
       "3          0           0                          0                        0  \n",
       "4          1           0                          0                        0  "
      ]
     },
     "execution_count": 41,
     "metadata": {},
     "output_type": "execute_result"
    }
   ],
   "source": [
    "full.head()[['Embarked', 'Fare', 'Parch', 'Pclass', 'Sex', 'SibSp', 'Deck', 'Title', \n",
    "             'Age_Med_Imp', 'Family_Size', 'person_type', 'family_group', 'ticket_type', 'passengers_on_ticket',\n",
    "             'Singleton', 'child_died', 'perishing_female_in_group', 'surviving_male_in_group']]"
   ]
  },
  {
   "cell_type": "code",
   "execution_count": 42,
   "metadata": {
    "collapsed": true
   },
   "outputs": [],
   "source": [
    "df = full.copy()"
   ]
  },
  {
   "cell_type": "code",
   "execution_count": 43,
   "metadata": {
    "collapsed": true
   },
   "outputs": [],
   "source": [
    "from sklearn import preprocessing\n",
    "label_encoder = preprocessing.LabelEncoder()"
   ]
  },
  {
   "cell_type": "code",
   "execution_count": 44,
   "metadata": {
    "collapsed": false
   },
   "outputs": [],
   "source": [
    "df.loc[:,'Embarked'] = label_encoder.fit_transform(df.Embarked)\n",
    "df.loc[:,'Pclass'] = label_encoder.fit_transform(df.Pclass)\n",
    "df.loc[:,'Sex'] = label_encoder.fit_transform(df.Sex)\n",
    "df.loc[:,'Deck'] = label_encoder.fit_transform(df.Deck)\n",
    "df.loc[:,'Title'] = label_encoder.fit_transform(df.Title)\n",
    "df.loc[:,'person_type'] = label_encoder.fit_transform(df.person_type)\n",
    "df.loc[:,'family_group'] = label_encoder.fit_transform(df.family_group)\n",
    "df.loc[:,'ticket_type'] = label_encoder.fit_transform(df.ticket_type)"
   ]
  },
  {
   "cell_type": "code",
   "execution_count": 45,
   "metadata": {
    "collapsed": false
   },
   "outputs": [],
   "source": [
    "df.loc[df['Singleton'] == 1,'family_group'] = -1"
   ]
  },
  {
   "cell_type": "code",
   "execution_count": 46,
   "metadata": {
    "collapsed": true
   },
   "outputs": [],
   "source": [
    "## Split back to train/test"
   ]
  },
  {
   "cell_type": "code",
   "execution_count": 47,
   "metadata": {
    "collapsed": false
   },
   "outputs": [],
   "source": [
    "df_train = df[df['df'] == 'Train']\n",
    "df_test = df[df['df'] == 'Test']"
   ]
  },
  {
   "cell_type": "code",
   "execution_count": 48,
   "metadata": {
    "collapsed": true
   },
   "outputs": [],
   "source": [
    "feature_vars = ['Embarked', 'Fare', 'Parch', 'Pclass', 'Sex', 'SibSp', 'Deck', 'Title', \n",
    "             'Age_Med_Imp', 'Family_Size', 'person_type', 'family_group', 'ticket_type', 'passengers_on_ticket',\n",
    "             'Singleton', 'child_died', 'perishing_female_in_group', 'surviving_male_in_group']\n",
    "X_train = df_train[feature_vars]\n",
    "X_test = df_test[feature_vars]\n",
    "y_train = df_train.Survived"
   ]
  },
  {
   "cell_type": "code",
   "execution_count": 49,
   "metadata": {
    "collapsed": true
   },
   "outputs": [],
   "source": [
    "def cv_scorer(model, folds, X, y, scoring= 'accuracy'):\n",
    "    kf = sklearn.model_selection.StratifiedKFold(folds, True)\n",
    "    scores = sklearn.model_selection.cross_val_score(model, X, y, scoring= scoring, cv = kf)\n",
    "    return np.mean(scores)"
   ]
  },
  {
   "cell_type": "code",
   "execution_count": 50,
   "metadata": {
    "collapsed": true
   },
   "outputs": [],
   "source": [
    "from sklearn.tree import DecisionTreeClassifier\n",
    "from sklearn.model_selection import GridSearchCV"
   ]
  },
  {
   "cell_type": "code",
   "execution_count": 51,
   "metadata": {
    "collapsed": false
   },
   "outputs": [
    {
     "data": {
      "text/plain": [
       "0.85632589944387694"
      ]
     },
     "execution_count": 51,
     "metadata": {},
     "output_type": "execute_result"
    }
   ],
   "source": [
    "dt = DecisionTreeClassifier()\n",
    "cv_scorer(dt, 10, X_train, y_train)"
   ]
  },
  {
   "cell_type": "code",
   "execution_count": 52,
   "metadata": {
    "collapsed": false
   },
   "outputs": [
    {
     "data": {
      "text/plain": [
       "GridSearchCV(cv=10, error_score='raise',\n",
       "       estimator=DecisionTreeClassifier(class_weight=None, criterion='gini', max_depth=None,\n",
       "            max_features=None, max_leaf_nodes=None,\n",
       "            min_impurity_split=1e-07, min_samples_leaf=1,\n",
       "            min_samples_split=2, min_weight_fraction_leaf=0.0,\n",
       "            presort=False, random_state=None, splitter='best'),\n",
       "       fit_params={}, iid=True, n_jobs=1,\n",
       "       param_grid={'min_samples_leaf': [1, 5, 10, 20], 'max_leaf_nodes': [None, 5, 10, 20, 30], 'min_samples_split': [2, 10, 15, 20], 'criterion': ['gini', 'entropy'], 'max_depth': [None, 2, 5, 10, 15]},\n",
       "       pre_dispatch='2*n_jobs', refit=True, return_train_score=True,\n",
       "       scoring='accuracy', verbose=0)"
      ]
     },
     "execution_count": 52,
     "metadata": {},
     "output_type": "execute_result"
    }
   ],
   "source": [
    "dt = DecisionTreeClassifier()\n",
    "param_grid = {\"criterion\": [\"gini\", \"entropy\"],\n",
    "              \"min_samples_split\": [2, 10, 15, 20],\n",
    "              \"max_depth\": [None, 2, 5, 10, 15],\n",
    "              \"min_samples_leaf\": [1, 5, 10, 20],\n",
    "              \"max_leaf_nodes\": [None, 5, 10, 20, 30],\n",
    "              }\n",
    "grid = GridSearchCV(dt, param_grid, scoring = 'accuracy', cv = 10)\n",
    "grid.fit(X_train, y_train)"
   ]
  },
  {
   "cell_type": "code",
   "execution_count": 53,
   "metadata": {
    "collapsed": false
   },
   "outputs": [
    {
     "data": {
      "text/plain": [
       "(DecisionTreeClassifier(class_weight=None, criterion='entropy', max_depth=None,\n",
       "             max_features=None, max_leaf_nodes=10, min_impurity_split=1e-07,\n",
       "             min_samples_leaf=5, min_samples_split=2,\n",
       "             min_weight_fraction_leaf=0.0, presort=False, random_state=None,\n",
       "             splitter='best'), 0.8922558922558923)"
      ]
     },
     "execution_count": 53,
     "metadata": {},
     "output_type": "execute_result"
    }
   ],
   "source": [
    "grid.best_estimator_, grid.best_score_"
   ]
  },
  {
   "cell_type": "code",
   "execution_count": 54,
   "metadata": {
    "collapsed": true
   },
   "outputs": [],
   "source": [
    "def make_sub(filename, predicts):\n",
    "    submission = pd.DataFrame({\"PassengerId\":df_test.PassengerId,\n",
    "                           \"Survived\":predicts.astype(int)})\n",
    "    submission.to_csv(\"{}.csv\".format(filename),index=False) "
   ]
  },
  {
   "cell_type": "code",
   "execution_count": 55,
   "metadata": {
    "collapsed": false
   },
   "outputs": [
    {
     "name": "stdout",
     "output_type": "stream",
     "text": [
      "0.895622895623\n",
      "0.88540205425\n"
     ]
    }
   ],
   "source": [
    "dt = DecisionTreeClassifier(**grid.best_params_)\n",
    "dt.fit(X_train, y_train)\n",
    "print(sklearn.metrics.accuracy_score(y_train, dt.predict(X_train)))\n",
    "print(cv_scorer(dt, 10,X_train, y_train))\n",
    "preds = dt.predict(X_test)"
   ]
  },
  {
   "cell_type": "code",
   "execution_count": 56,
   "metadata": {
    "collapsed": false
   },
   "outputs": [],
   "source": [
    "make_sub('DT_Titanic_Survival', preds)"
   ]
  },
  {
   "cell_type": "code",
   "execution_count": 57,
   "metadata": {
    "collapsed": false
   },
   "outputs": [
    {
     "data": {
      "text/html": [
       "<div>\n",
       "<table border=\"1\" class=\"dataframe\">\n",
       "  <thead>\n",
       "    <tr style=\"text-align: right;\">\n",
       "      <th></th>\n",
       "      <th>feature</th>\n",
       "      <th>importance</th>\n",
       "    </tr>\n",
       "  </thead>\n",
       "  <tbody>\n",
       "    <tr>\n",
       "      <th>4</th>\n",
       "      <td>Sex</td>\n",
       "      <td>0.190604</td>\n",
       "    </tr>\n",
       "    <tr>\n",
       "      <th>8</th>\n",
       "      <td>Age_Med_Imp</td>\n",
       "      <td>0.136885</td>\n",
       "    </tr>\n",
       "    <tr>\n",
       "      <th>10</th>\n",
       "      <td>person_type</td>\n",
       "      <td>0.128066</td>\n",
       "    </tr>\n",
       "    <tr>\n",
       "      <th>1</th>\n",
       "      <td>Fare</td>\n",
       "      <td>0.116131</td>\n",
       "    </tr>\n",
       "    <tr>\n",
       "      <th>16</th>\n",
       "      <td>perishing_female_in_group</td>\n",
       "      <td>0.100233</td>\n",
       "    </tr>\n",
       "    <tr>\n",
       "      <th>17</th>\n",
       "      <td>surviving_male_in_group</td>\n",
       "      <td>0.060409</td>\n",
       "    </tr>\n",
       "    <tr>\n",
       "      <th>3</th>\n",
       "      <td>Pclass</td>\n",
       "      <td>0.050651</td>\n",
       "    </tr>\n",
       "    <tr>\n",
       "      <th>7</th>\n",
       "      <td>Title</td>\n",
       "      <td>0.040235</td>\n",
       "    </tr>\n",
       "    <tr>\n",
       "      <th>6</th>\n",
       "      <td>Deck</td>\n",
       "      <td>0.038171</td>\n",
       "    </tr>\n",
       "    <tr>\n",
       "      <th>15</th>\n",
       "      <td>child_died</td>\n",
       "      <td>0.027468</td>\n",
       "    </tr>\n",
       "    <tr>\n",
       "      <th>12</th>\n",
       "      <td>ticket_type</td>\n",
       "      <td>0.019370</td>\n",
       "    </tr>\n",
       "    <tr>\n",
       "      <th>0</th>\n",
       "      <td>Embarked</td>\n",
       "      <td>0.018740</td>\n",
       "    </tr>\n",
       "    <tr>\n",
       "      <th>14</th>\n",
       "      <td>Singleton</td>\n",
       "      <td>0.016981</td>\n",
       "    </tr>\n",
       "    <tr>\n",
       "      <th>11</th>\n",
       "      <td>family_group</td>\n",
       "      <td>0.014822</td>\n",
       "    </tr>\n",
       "    <tr>\n",
       "      <th>13</th>\n",
       "      <td>passengers_on_ticket</td>\n",
       "      <td>0.014458</td>\n",
       "    </tr>\n",
       "    <tr>\n",
       "      <th>9</th>\n",
       "      <td>Family_Size</td>\n",
       "      <td>0.011771</td>\n",
       "    </tr>\n",
       "    <tr>\n",
       "      <th>5</th>\n",
       "      <td>SibSp</td>\n",
       "      <td>0.008273</td>\n",
       "    </tr>\n",
       "    <tr>\n",
       "      <th>2</th>\n",
       "      <td>Parch</td>\n",
       "      <td>0.006734</td>\n",
       "    </tr>\n",
       "  </tbody>\n",
       "</table>\n",
       "</div>"
      ],
      "text/plain": [
       "                      feature  importance\n",
       "4                         Sex    0.190604\n",
       "8                 Age_Med_Imp    0.136885\n",
       "10                person_type    0.128066\n",
       "1                        Fare    0.116131\n",
       "16  perishing_female_in_group    0.100233\n",
       "17    surviving_male_in_group    0.060409\n",
       "3                      Pclass    0.050651\n",
       "7                       Title    0.040235\n",
       "6                        Deck    0.038171\n",
       "15                 child_died    0.027468\n",
       "12                ticket_type    0.019370\n",
       "0                    Embarked    0.018740\n",
       "14                  Singleton    0.016981\n",
       "11               family_group    0.014822\n",
       "13       passengers_on_ticket    0.014458\n",
       "9                 Family_Size    0.011771\n",
       "5                       SibSp    0.008273\n",
       "2                       Parch    0.006734"
      ]
     },
     "execution_count": 57,
     "metadata": {},
     "output_type": "execute_result"
    }
   ],
   "source": [
    "from sklearn.ensemble import ExtraTreesClassifier\n",
    "\n",
    "clf = ExtraTreesClassifier(n_estimators=200)\n",
    "clf = clf.fit(X_train, y_train)\n",
    "\n",
    "features = pd.DataFrame()\n",
    "features['feature'] = X_train.columns\n",
    "features['importance'] = clf.feature_importances_\n",
    "\n",
    "features.sort_values('importance', ascending=False)"
   ]
  },
  {
   "cell_type": "code",
   "execution_count": 137,
   "metadata": {
    "collapsed": true
   },
   "outputs": [],
   "source": [
    "## Random Forest"
   ]
  },
  {
   "cell_type": "code",
   "execution_count": 138,
   "metadata": {
    "collapsed": true
   },
   "outputs": [],
   "source": [
    "from sklearn.ensemble import RandomForestClassifier"
   ]
  },
  {
   "cell_type": "code",
   "execution_count": 139,
   "metadata": {
    "collapsed": false
   },
   "outputs": [
    {
     "data": {
      "text/plain": [
       "GridSearchCV(cv=StratifiedKFold(n_splits=10, random_state=None, shuffle=False),\n",
       "       error_score='raise',\n",
       "       estimator=RandomForestClassifier(bootstrap=True, class_weight=None, criterion='gini',\n",
       "            max_depth=None, max_features=None, max_leaf_nodes=None,\n",
       "            min_impurity_split=1e-07, min_samples_leaf=1,\n",
       "            min_samples_split=2, min_weight_fraction_leaf=0.0,\n",
       "            n_estimators=10, n_jobs=1, oob_score=False, random_state=None,\n",
       "            verbose=0, warm_start=False),\n",
       "       fit_params={}, iid=True, n_jobs=1,\n",
       "       param_grid={'criterion': ['gini', 'entropy'], 'n_estimators': [200, 210, 240, 250], 'max_depth': [4, 5, 6, 7, 8]},\n",
       "       pre_dispatch='2*n_jobs', refit=True, return_train_score=True,\n",
       "       scoring='accuracy', verbose=0)"
      ]
     },
     "execution_count": 139,
     "metadata": {},
     "output_type": "execute_result"
    }
   ],
   "source": [
    "rv = RandomForestClassifier(max_features=None)\n",
    "parameter_grid = {\n",
    "                 'max_depth' : [4,5,6,7,8],\n",
    "                 'n_estimators': [200,210,240,250],\n",
    "                 'criterion': ['gini','entropy']\n",
    "                 }\n",
    "\n",
    "cross_validation = sklearn.model_selection.StratifiedKFold(10)\n",
    "\n",
    "grid = GridSearchCV(rv,param_grid=parameter_grid,cv=cross_validation, scoring= 'accuracy')\n",
    "\n",
    "grid.fit(X_train, y_train)"
   ]
  },
  {
   "cell_type": "code",
   "execution_count": 140,
   "metadata": {
    "collapsed": false
   },
   "outputs": [
    {
     "name": "stdout",
     "output_type": "stream",
     "text": [
      "Best score: 0.8956228956228957\n",
      "Best parameters: {'criterion': 'gini', 'n_estimators': 210, 'max_depth': 7}\n"
     ]
    }
   ],
   "source": [
    "print('Best score: {}'.format(grid.best_score_))\n",
    "print('Best parameters: {}'.format(grid.best_params_))"
   ]
  },
  {
   "cell_type": "code",
   "execution_count": 141,
   "metadata": {
    "collapsed": false
   },
   "outputs": [
    {
     "name": "stdout",
     "output_type": "stream",
     "text": [
      "0.928170594837\n",
      "0.887774656679\n"
     ]
    }
   ],
   "source": [
    "rv =RandomForestClassifier( **grid.best_params_)\n",
    "rv.fit(X_train, y_train)\n",
    "print(sklearn.metrics.accuracy_score(y_train, rv.predict(X_train)))\n",
    "print(cv_scorer(rv, 10, X_train, y_train))\n",
    "preds = rv.predict(X_test)"
   ]
  },
  {
   "cell_type": "code",
   "execution_count": 143,
   "metadata": {
    "collapsed": false
   },
   "outputs": [],
   "source": [
    "make_sub('RF_Titanic_Survival', preds)"
   ]
  },
  {
   "cell_type": "code",
   "execution_count": null,
   "metadata": {
    "collapsed": true
   },
   "outputs": [],
   "source": []
  },
  {
   "cell_type": "code",
   "execution_count": 147,
   "metadata": {
    "collapsed": true
   },
   "outputs": [],
   "source": [
    "model_rf = RandomForestClassifier(n_estimators=20000, min_samples_leaf=4, class_weight={0:0.62,1:0.38})"
   ]
  },
  {
   "cell_type": "code",
   "execution_count": 149,
   "metadata": {
    "collapsed": false
   },
   "outputs": [],
   "source": [
    "model_rf.fit(X_train, y_train)\n",
    "model_results = model_rf.predict(X_test)"
   ]
  },
  {
   "cell_type": "code",
   "execution_count": 146,
   "metadata": {
    "collapsed": false
   },
   "outputs": [
    {
     "data": {
      "text/html": [
       "<div>\n",
       "<table border=\"1\" class=\"dataframe\">\n",
       "  <thead>\n",
       "    <tr style=\"text-align: right;\">\n",
       "      <th>col_0</th>\n",
       "      <th>count</th>\n",
       "    </tr>\n",
       "    <tr>\n",
       "      <th>Survived</th>\n",
       "      <th></th>\n",
       "    </tr>\n",
       "  </thead>\n",
       "  <tbody>\n",
       "    <tr>\n",
       "      <th>0.0</th>\n",
       "      <td>0.616162</td>\n",
       "    </tr>\n",
       "    <tr>\n",
       "      <th>1.0</th>\n",
       "      <td>0.383838</td>\n",
       "    </tr>\n",
       "  </tbody>\n",
       "</table>\n",
       "</div>"
      ],
      "text/plain": [
       "col_0        count\n",
       "Survived          \n",
       "0.0       0.616162\n",
       "1.0       0.383838"
      ]
     },
     "execution_count": 146,
     "metadata": {},
     "output_type": "execute_result"
    }
   ],
   "source": [
    "pd.crosstab(df_train.Survived,'count', normalize= True)"
   ]
  },
  {
   "cell_type": "code",
   "execution_count": 150,
   "metadata": {
    "collapsed": true
   },
   "outputs": [],
   "source": [
    "make_sub('RF_2_Titanic_Survival', model_results)"
   ]
  },
  {
   "cell_type": "code",
   "execution_count": null,
   "metadata": {
    "collapsed": true
   },
   "outputs": [],
   "source": [
    "## svm"
   ]
  },
  {
   "cell_type": "code",
   "execution_count": 58,
   "metadata": {
    "collapsed": true
   },
   "outputs": [],
   "source": [
    "from sklearn.svm import SVC"
   ]
  },
  {
   "cell_type": "code",
   "execution_count": null,
   "metadata": {
    "collapsed": false
   },
   "outputs": [],
   "source": [
    "clf = SVC()\n",
    "param_grid =   [{'C': [1, 10, 100, 1000], 'kernel': ['linear']},\n",
    "  {'C': [1, 10, 100, 1000], 'gamma': [0.001, 0.0001], 'kernel': ['rbf']}]\n",
    "grid = GridSearchCV(clf, param_grid, cv = 10)\n",
    "grid.fit(X_train, y_train)"
   ]
  },
  {
   "cell_type": "code",
   "execution_count": null,
   "metadata": {
    "collapsed": true
   },
   "outputs": [],
   "source": []
  },
  {
   "cell_type": "code",
   "execution_count": null,
   "metadata": {
    "collapsed": true
   },
   "outputs": [],
   "source": []
  },
  {
   "cell_type": "code",
   "execution_count": 87,
   "metadata": {
    "collapsed": false
   },
   "outputs": [],
   "source": [
    "## from collections import Counter\n",
    "## cnt = Counter()\n",
    "## for ticket in full.Ticket:\n",
    "##     cnt[ticket] +=1\n",
    "\n",
    "## full['passengers_on_ticket'] = full.Ticket.map(cnt)\n",
    "    "
   ]
  },
  {
   "cell_type": "code",
   "execution_count": 159,
   "metadata": {
    "collapsed": true
   },
   "outputs": [],
   "source": [
    "## from collections import Counter\n",
    "## cnt = Counter()\n",
    "## for surname in full.family_group:\n",
    "##     cnt[surname] +=1\n",
    "\n",
    "## full['Surname_count'] = full.family_group.map(cnt)"
   ]
  },
  {
   "cell_type": "code",
   "execution_count": null,
   "metadata": {
    "collapsed": true
   },
   "outputs": [],
   "source": []
  }
 ],
 "metadata": {
  "kernelspec": {
   "display_name": "Python [Root]",
   "language": "python",
   "name": "Python [Root]"
  },
  "language_info": {
   "codemirror_mode": {
    "name": "ipython",
    "version": 3
   },
   "file_extension": ".py",
   "mimetype": "text/x-python",
   "name": "python",
   "nbconvert_exporter": "python",
   "pygments_lexer": "ipython3",
   "version": "3.5.2"
  }
 },
 "nbformat": 4,
 "nbformat_minor": 0
}
